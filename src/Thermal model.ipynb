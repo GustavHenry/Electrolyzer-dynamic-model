{
 "cells": [
  {
   "cell_type": "markdown",
   "metadata": {},
   "source": [
    "# 重新实现之前的线性热模型\n",
    "应该只需要读取第一次实验的数据，这里主要想规范一下之前的写法"
   ]
  },
  {
   "cell_type": "code",
   "execution_count": 1,
   "metadata": {},
   "outputs": [],
   "source": [
    "import pandas as pd\n",
    "import numpy as np\n",
    "import os\n",
    "from keys import *\n",
    "from utils_thermal_model_raw_process import *\n",
    "import math\n",
    "from tqdm import tqdm"
   ]
  },
  {
   "cell_type": "markdown",
   "metadata": {},
   "source": [
    "# 读取所有原始数据\n",
    "并对原始数据进行统一化处理"
   ]
  },
  {
   "cell_type": "code",
   "execution_count": 2,
   "metadata": {},
   "outputs": [],
   "source": [
    "source_folder = os.path.join(\n",
    "    DataDir.Raw_electrolyzer,\n",
    "    os.listdir(DataDir.Raw_electrolyzer)[0]\n",
    ") # 只读取2021年的实验部分\n",
    "\n",
    "history_ambt_temp = pd.read_csv(\n",
    "    Files.history_ambient_temperature\n",
    ")"
   ]
  },
  {
   "cell_type": "code",
   "execution_count": 6,
   "metadata": {},
   "outputs": [
    {
     "name": "stderr",
     "output_type": "stream",
     "text": [
      "100%|██████████| 29/29 [00:51<00:00,  1.77s/it]\n"
     ]
    }
   ],
   "source": [
    "for file in tqdm( \n",
    "    os.listdir(source_folder)\n",
    "): # 只选取第一部分的数据\n",
    "    df = pd.read_excel(\n",
    "        os.path.join(\n",
    "            source_folder,\n",
    "            file\n",
    "        )\n",
    "    )\n",
    "    df = rename_excel_raw_data_from_electrolyzer(df)\n",
    "    df = differential_temperature_raw_data(df)\n",
    "    df = cell_voltage_current_density(df)\n",
    "    df = convert_df_time_raw_data(df)\n",
    "\n",
    "    df = fill_history_ambt_temperature(df,history_ambt_temp)\n",
    "    df.to_csv(\n",
    "        os.path.join(\n",
    "            DataDir.Raw_thermal_model,\n",
    "            file\n",
    "        ),\n",
    "        encoding=ENCODING\n",
    "    )"
   ]
  },
  {
   "cell_type": "code",
   "execution_count": null,
   "metadata": {},
   "outputs": [],
   "source": []
  }
 ],
 "metadata": {
  "kernelspec": {
   "display_name": "Python 3.10.2 ('venv': venv)",
   "language": "python",
   "name": "python3"
  },
  "language_info": {
   "codemirror_mode": {
    "name": "ipython",
    "version": 3
   },
   "file_extension": ".py",
   "mimetype": "text/x-python",
   "name": "python",
   "nbconvert_exporter": "python",
   "pygments_lexer": "ipython3",
   "version": "3.10.2"
  },
  "orig_nbformat": 4,
  "vscode": {
   "interpreter": {
    "hash": "1fc8bbdf4a64551d12bb41b817ff4e4b1bafd30afb3353483bf0700436ef2a82"
   }
  }
 },
 "nbformat": 4,
 "nbformat_minor": 2
}
