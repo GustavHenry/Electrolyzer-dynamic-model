{
 "cells": [
  {
   "cell_type": "markdown",
   "metadata": {},
   "source": [
    "# 重新实现之前的线性热模型\n",
    "应该只需要读取第一次实验的数据，这里主要想规范一下之前的写法"
   ]
  },
  {
   "cell_type": "code",
   "execution_count": null,
   "metadata": {},
   "outputs": [],
   "source": [
    "import pandas as pd\n",
    "import numpy as np\n",
    "import os\n",
    "from keys import *\n",
    "import math\n",
    "\n",
    "from tqdm import tqdm\n",
    "from loader import Loader\n",
    "from thermal_model.data import *\n",
    "from thermal_model.configs import *\n",
    "from thermal_model.figure_plotter import *\n",
    "from utils_thermal_model_raw_process import *\n",
    "import matplotlib.pyplot as plt\n",
    "from plotter import Plotter\n",
    "import seaborn as sns\n",
    "from sklearn.linear_model import LinearRegression,Lars\n",
    "from sklearn.ensemble import RandomForestRegressor\n",
    "from thermal_model.thermal_model import fit_random_forest, model_estimator,fit_LARS\n",
    "import pickle\n",
    "import math\n",
    "from thermal_model.electrolyzer import Electrolyzer\n",
    "from thermal_model.original_thermal_model_and_plotter_0117 import current_TlyeIn_liftcycle_cost\n",
    "\n"
   ]
  },
  {
   "cell_type": "markdown",
   "metadata": {},
   "source": [
    "# 读取数据并且缓存成单独pickle"
   ]
  },
  {
   "cell_type": "code",
   "execution_count": null,
   "metadata": {},
   "outputs": [],
   "source": [
    "df_thermal_model_data_raw = ThermalModelData().load()"
   ]
  },
  {
   "cell_type": "markdown",
   "metadata": {},
   "source": [
    "# 生成线性模型的输入项"
   ]
  },
  {
   "cell_type": "code",
   "execution_count": null,
   "metadata": {},
   "outputs": [],
   "source": [
    "df_thermal_model_data_input = generate_model_input(df_thermal_model_data_raw)"
   ]
  },
  {
   "cell_type": "code",
   "execution_count": null,
   "metadata": {},
   "outputs": [],
   "source": [
    "df_thermal_model_data_input.columns"
   ]
  },
  {
   "cell_type": "markdown",
   "metadata": {},
   "source": [
    "# 生成模型（应该使用线性模型）"
   ]
  },
  {
   "cell_type": "code",
   "execution_count": null,
   "metadata": {},
   "outputs": [],
   "source": [
    "model_random_forest,model_input,model_target = fit_random_forest(df_thermal_model_data_input,6)"
   ]
  },
  {
   "cell_type": "code",
   "execution_count": null,
   "metadata": {},
   "outputs": [],
   "source": [
    "( model_predict, error) = model_estimator(\n",
    "    model_random_forest,model_input,model_target\n",
    ")"
   ]
  },
  {
   "cell_type": "code",
   "execution_count": null,
   "metadata": {},
   "outputs": [],
   "source": [
    "Thermal_model_regression_scatter(\n",
    "    model_target = model_target,\n",
    "    model_predict = model_predict,\n",
    "    title_model=\"随机森林\",\n",
    ").save()"
   ]
  },
  {
   "cell_type": "code",
   "execution_count": null,
   "metadata": {},
   "outputs": [],
   "source": [
    "Thermal_model_regression_error_histplot(\n",
    "    model_target=model_target,\n",
    "    error=error,\n",
    "    title_model=\"随机森林\"\n",
    ").save()"
   ]
  },
  {
   "cell_type": "code",
   "execution_count": null,
   "metadata": {},
   "outputs": [],
   "source": [
    "Thermal_model_regression_cumulative_error_plot(\n",
    "    model_target=model_target,\n",
    "    model_predict=model_predict\n",
    ").save()"
   ]
  },
  {
   "cell_type": "code",
   "execution_count": null,
   "metadata": {},
   "outputs": [],
   "source": [
    "model_lars,model_input,model_target = fit_LARS(df_thermal_model_data_input)"
   ]
  },
  {
   "cell_type": "code",
   "execution_count": null,
   "metadata": {},
   "outputs": [],
   "source": [
    "( model_predict, error) = model_estimator(\n",
    "    model_lars,model_input,model_target\n",
    ")"
   ]
  },
  {
   "cell_type": "code",
   "execution_count": null,
   "metadata": {},
   "outputs": [],
   "source": [
    "Thermal_model_regression_scatter(\n",
    "    model_target = model_target,\n",
    "    model_predict = model_predict,\n",
    "    title_model=\"LARS\",\n",
    ").save()"
   ]
  },
  {
   "cell_type": "code",
   "execution_count": null,
   "metadata": {},
   "outputs": [],
   "source": [
    "Thermal_model_regression_error_histplot(\n",
    "    model_target=model_target,\n",
    "    error=error,\n",
    "    title_model=\"LARS\"\n",
    ").save()"
   ]
  },
  {
   "cell_type": "code",
   "execution_count": null,
   "metadata": {},
   "outputs": [],
   "source": [
    "Thermal_model_regression_cumulative_error_plot(\n",
    "    model_target=model_target,\n",
    "    model_predict=model_predict,\n",
    "    title_model='LARS'\n",
    ").save()"
   ]
  },
  {
   "cell_type": "markdown",
   "metadata": {},
   "source": [
    "# 测试模型功能"
   ]
  },
  {
   "cell_type": "code",
   "execution_count": null,
   "metadata": {},
   "outputs": [],
   "source": [
    "current_TlyeIn_liftcycle_cost()"
   ]
  },
  {
   "cell_type": "code",
   "execution_count": null,
   "metadata": {},
   "outputs": [],
   "source": [
    "class Model_life_cycle_hydrogen_cost(QuadroPlotter):\n",
    "    def __init__(\n",
    "        self, \n",
    "        label=\"Thermal model\", \n",
    "        title=\"不同工况下电解槽全生命周期制氢成本\", \n",
    "        num_subplot=4, \n",
    "        title_plot=False\n",
    "    ) -> None:\n",
    "        super().__init__(label, title, num_subplot, title_plot)\n",
    "        # 这里应该包含两个大类，一个是30万一个是60万成本\n",
    "        self.electrolyzer = Electrolyzer()\n",
    "    \n",
    "    def plot_1(self):\n",
    "        lye_temperature_range = range(\n",
    "            OperatingRange.Contour.Lye_temperature.left,\n",
    "            OperatingRange.Contour.Lye_temperature.right,\n",
    "            OperatingRange.Contour.Lye_temperature.step\n",
    "        )\n",
    "        current_range = range(\n",
    "            OperatingRange.Contour.Current.left,\n",
    "            OperatingRange.Contour.Current.right,\n",
    "            OperatingRange.Contour.Current.step\n",
    "        )\n",
    "        ambient_temperature = OperatingCondition.Default.ambient_temperature\n",
    "        lye_flow = OperatingCondition.Default.lye_flow\n",
    "        electricity_price = LifeCycle.electricity_price\n",
    "        electrolyzer_price = 250000\n",
    "        cooling_efficiency = LifeCycle.cooling_efficiency\n",
    "        heating_efficiency = LifeCycle.heating_efficiency\n",
    "        cost_matrix = np.ones(\n",
    "            (\n",
    "                len(lye_temperature_range),\n",
    "                len(current_range)\n",
    "            )\n",
    "        ) # 电解槽全生命周期制氢成本\n",
    "        for i in range(len(current_range)):\n",
    "            for j in range(len(lye_temperature_range)):\n",
    "\n",
    "                current = current_range[i]\n",
    "                lye_temperature = lye_temperature_range[j]\n",
    "                cost_matrix[j,i] = self.electrolyzer.hydrogen_cost_lifecycle_USD(\n",
    "                    current=current,\n",
    "                    ambient_temperature=ambient_temperature,\n",
    "                    lye_flow=lye_flow,\n",
    "                    lye_temperature=lye_temperature,\n",
    "                    cooling_efficiency=cooling_efficiency,\n",
    "                    heating_efficiency=heating_efficiency,\n",
    "                    electricity_price=electricity_price,\n",
    "                    electrolyzer_price=electrolyzer_price,\n",
    "                )\n",
    "                \n",
    "        cost_default = self.electrolyzer.hydrogen_cost_lifecycle_USD(\n",
    "                    current=OperatingCondition.Rated.current,\n",
    "                    lye_temperature=OperatingCondition.Rated.lye_temperature,\n",
    "                    ambient_temperature=ambient_temperature,\n",
    "                    lye_flow=lye_flow,\n",
    "                    cooling_efficiency=cooling_efficiency,\n",
    "                    heating_efficiency=heating_efficiency,\n",
    "                    electricity_price=electricity_price,\n",
    "                    electrolyzer_price=electrolyzer_price,\n",
    "                )\n",
    "        cost_optimal = self.electrolyzer.hydrogen_cost_lifecycle_USD(\n",
    "                    current=OperatingCondition.Optimal.current,\n",
    "                    lye_temperature=OperatingCondition.Optimal.lye_temperature,\n",
    "                    ambient_temperature=ambient_temperature,\n",
    "                    lye_flow=lye_flow,\n",
    "                    cooling_efficiency=cooling_efficiency,\n",
    "                    heating_efficiency=heating_efficiency,\n",
    "                    electricity_price=electricity_price,\n",
    "                    electrolyzer_price=electrolyzer_price,\n",
    "                )\n",
    "        self.plot_contour_map_with_2_points(\n",
    "            matrix=cost_matrix,\n",
    "            x_range=np.array(current_range) / self.electrolyzer.active_surface_area,\n",
    "            y_range=lye_temperature_range,\n",
    "            value_default=cost_default,\n",
    "            value_optimal=cost_optimal,\n",
    "            unit=' $USD/kg',\n",
    "            value_max=5.6,\n",
    "            value_min=4.4\n",
    "        )\n",
    "\n",
    "    def plot_2(self):\n",
    "        lye_temperature_range = range(\n",
    "            OperatingRange.Contour.Lye_temperature.left,\n",
    "            OperatingRange.Contour.Lye_temperature.right,\n",
    "            OperatingRange.Contour.Lye_temperature.step\n",
    "        )\n",
    "        current_range = range(\n",
    "            OperatingRange.Contour.Current.left,\n",
    "            OperatingRange.Contour.Current.right,\n",
    "            OperatingRange.Contour.Current.step\n",
    "        )\n",
    "        ambient_temperature = OperatingCondition.Default.ambient_temperature\n",
    "        lye_flow = OperatingCondition.Default.lye_flow\n",
    "        electricity_price = LifeCycle.electricity_price\n",
    "        electrolyzer_price = 500000\n",
    "        cooling_efficiency = LifeCycle.cooling_efficiency\n",
    "        heating_efficiency = LifeCycle.heating_efficiency\n",
    "        cost_matrix = np.ones(\n",
    "            (\n",
    "                len(lye_temperature_range),\n",
    "                len(current_range)\n",
    "            )\n",
    "        ) # 电解槽全生命周期制氢成本\n",
    "        for i in range(len(current_range)):\n",
    "            for j in range(len(lye_temperature_range)):\n",
    "\n",
    "                current = current_range[i]\n",
    "                lye_temperature = lye_temperature_range[j]\n",
    "                cost_matrix[j,i] = self.electrolyzer.hydrogen_cost_lifecycle_USD(\n",
    "                    current=current,\n",
    "                    ambient_temperature=ambient_temperature,\n",
    "                    lye_flow=lye_flow,\n",
    "                    lye_temperature=lye_temperature,\n",
    "                    cooling_efficiency=cooling_efficiency,\n",
    "                    heating_efficiency=heating_efficiency,\n",
    "                    electricity_price=electricity_price,\n",
    "                    electrolyzer_price=electrolyzer_price,\n",
    "                )\n",
    "                \n",
    "        cost_default = self.electrolyzer.hydrogen_cost_lifecycle_USD(\n",
    "                    current=OperatingCondition.Rated.current,\n",
    "                    lye_temperature=OperatingCondition.Rated.lye_temperature,\n",
    "                    ambient_temperature=ambient_temperature,\n",
    "                    lye_flow=lye_flow,\n",
    "                    cooling_efficiency=cooling_efficiency,\n",
    "                    heating_efficiency=heating_efficiency,\n",
    "                    electricity_price=electricity_price,\n",
    "                    electrolyzer_price=electrolyzer_price,\n",
    "                )\n",
    "        cost_optimal = self.electrolyzer.hydrogen_cost_lifecycle_USD(\n",
    "                    current=OperatingCondition.Optimal.current,\n",
    "                    lye_temperature=OperatingCondition.Optimal.lye_temperature,\n",
    "                    ambient_temperature=ambient_temperature,\n",
    "                    lye_flow=lye_flow,\n",
    "                    cooling_efficiency=cooling_efficiency,\n",
    "                    heating_efficiency=heating_efficiency,\n",
    "                    electricity_price=electricity_price,\n",
    "                    electrolyzer_price=electrolyzer_price,\n",
    "                )\n",
    "        self.plot_contour_map_with_2_points(\n",
    "            matrix=cost_matrix,\n",
    "            x_range=np.array(current_range) / self.electrolyzer.active_surface_area,\n",
    "            y_range=lye_temperature_range,\n",
    "            value_default=cost_default,\n",
    "            value_optimal=cost_optimal,\n",
    "            unit=' $/kg',\n",
    "            value_max=5.6,\n",
    "            value_min=4.4\n",
    "        )\n",
    "    \n",
    "    def plot_3(self):\n",
    "        # 两个工况点在不同碱液流量下的成本，最好也能包含不同的价格\n",
    "        lye_flow_range = np.arange(\n",
    "            OperatingRange.Cooling.Lye_flow.left,\n",
    "            OperatingRange.Cooling.Lye_flow.right,\n",
    "            OperatingRange.Cooling.Lye_flow.step/3\n",
    "        )\n",
    "        ambient_temperature = OperatingCondition.Default.ambient_temperature\n",
    "        cost_list_optimal = []\n",
    "        cost_list_rated = []\n",
    "        ambient_temperature = OperatingCondition.Default.ambient_temperature\n",
    "        electricity_price = LifeCycle.electricity_price\n",
    "        electrolyzer_price = 250000\n",
    "        cooling_efficiency = LifeCycle.cooling_efficiency\n",
    "        heating_efficiency = LifeCycle.heating_efficiency\n",
    "        for lye_flow in lye_flow_range:\n",
    "            cost_cur_optimal = self.electrolyzer.hydrogen_cost_lifecycle_USD(\n",
    "                current= OperatingCondition.Optimal.current,\n",
    "                lye_temperature=OperatingCondition.Optimal.lye_temperature,\n",
    "                lye_flow=lye_flow,\n",
    "                ambient_temperature=ambient_temperature,\n",
    "                electricity_price=electricity_price,\n",
    "                electrolyzer_price=electrolyzer_price,\n",
    "                cooling_efficiency=cooling_efficiency,\n",
    "                heating_efficiency=heating_efficiency,\n",
    "            )\n",
    "            cost_cur_rated = self.electrolyzer.hydrogen_cost_lifecycle_USD(\n",
    "                current= OperatingCondition.Default.current,\n",
    "                lye_temperature=OperatingCondition.Default.lye_temperature,\n",
    "                lye_flow=lye_flow,\n",
    "                ambient_temperature=ambient_temperature,\n",
    "                electricity_price=electricity_price,\n",
    "                electrolyzer_price=electrolyzer_price,\n",
    "                cooling_efficiency=cooling_efficiency,\n",
    "                heating_efficiency=heating_efficiency,\n",
    "            )\n",
    "            cost_list_optimal.append(cost_cur_optimal)\n",
    "            cost_list_rated.append(cost_cur_rated)\n",
    "        plt.plot(\n",
    "            lye_flow_range,\n",
    "            cost_list_optimal,\n",
    "            label = 'Optimal condition'\n",
    "        )\n",
    "        plt.plot(\n",
    "            lye_flow_range,\n",
    "            cost_list_rated,\n",
    "            label = 'Rated condition'\n",
    "        )\n",
    "        plt.xlabel(\n",
    "            r'$Lye\\ flow (m^3/h)$',\n",
    "        )\n",
    "        plt.ylabel(\n",
    "            r'$Hydrogen\\ production\\ cost\\ (\\$/kg)$'\n",
    "        )\n",
    "        # plt.ylim([4.2,5.8])\n",
    "        plt.legend(\n",
    "            title = 'Operating condition'\n",
    "        )\n",
    "        plt.ylim([4.6,5.2])\n",
    "\n",
    "    def plot_4(self):\n",
    "        # 两个工况点在不同电解槽价格下的氢气价格\n",
    "        1\n",
    "\n",
    "    # 最好还能够探讨不同电价下的氢气价格\n",
    "    # 还可以讨论整个生命周期的盈利？"
   ]
  },
  {
   "cell_type": "code",
   "execution_count": null,
   "metadata": {},
   "outputs": [],
   "source": [
    "Model_life_cycle_hydrogen_cost().save()"
   ]
  },
  {
   "attachments": {},
   "cell_type": "markdown",
   "metadata": {},
   "source": [
    "# 依次生成论文图片"
   ]
  },
  {
   "cell_type": "code",
   "execution_count": null,
   "metadata": {},
   "outputs": [],
   "source": [
    "Initial_delta_temp_histplot().save()"
   ]
  },
  {
   "cell_type": "code",
   "execution_count": null,
   "metadata": {},
   "outputs": [],
   "source": [
    "Initial_delta_temp_pairplot().save()"
   ]
  },
  {
   "cell_type": "code",
   "execution_count": null,
   "metadata": {},
   "outputs": [],
   "source": [
    "Model_input_data_pairplot().save()"
   ]
  },
  {
   "cell_type": "code",
   "execution_count": null,
   "metadata": {},
   "outputs": [],
   "source": [
    "Model_default_polarization_curve().save()"
   ]
  },
  {
   "cell_type": "code",
   "execution_count": null,
   "metadata": {},
   "outputs": [],
   "source": [
    "Thermal_model_regression_scatter().save()"
   ]
  },
  {
   "cell_type": "code",
   "execution_count": null,
   "metadata": {},
   "outputs": [],
   "source": [
    "Thermal_model_regression_error_histplot().save()"
   ]
  },
  {
   "cell_type": "code",
   "execution_count": null,
   "metadata": {},
   "outputs": [],
   "source": [
    "Thermal_model_regression_cumulative_error_plot().save()"
   ]
  },
  {
   "cell_type": "code",
   "execution_count": null,
   "metadata": {},
   "outputs": [],
   "source": [
    "Model_polarization_different_lye_temperature().save()"
   ]
  },
  {
   "cell_type": "code",
   "execution_count": null,
   "metadata": {},
   "outputs": [],
   "source": [
    "Model_faraday_efficiency_different_lye_temperature().save()"
   ]
  },
  {
   "cell_type": "code",
   "execution_count": null,
   "metadata": {},
   "outputs": [],
   "source": [
    "Model_output_temperature_different_lye_temperature().save()"
   ]
  },
  {
   "cell_type": "code",
   "execution_count": null,
   "metadata": {},
   "outputs": [],
   "source": [
    "Model_output_input_temperature_delta().save()"
   ]
  },
  {
   "cell_type": "code",
   "execution_count": null,
   "metadata": {},
   "outputs": [],
   "source": [
    "Model_output_temperature_different_lye_temperature().save()"
   ]
  },
  {
   "cell_type": "code",
   "execution_count": null,
   "metadata": {},
   "outputs": [],
   "source": [
    "Model_output_input_temperature_delta().save()"
   ]
  },
  {
   "cell_type": "code",
   "execution_count": null,
   "metadata": {},
   "outputs": [],
   "source": [
    "Model_cooling_power_requirement().save()\n",
    "# 要尝试探讨不同冷却效率对氢气能耗的影响"
   ]
  },
  {
   "cell_type": "code",
   "execution_count": null,
   "metadata": {},
   "outputs": [],
   "source": [
    "Model_efficiency_hydrogen_cost().save()"
   ]
  },
  {
   "cell_type": "code",
   "execution_count": null,
   "metadata": {},
   "outputs": [],
   "source": [
    "Model_life_cycle_hydrogen_cost().save()"
   ]
  },
  {
   "cell_type": "code",
   "execution_count": null,
   "metadata": {},
   "outputs": [],
   "source": []
  }
 ],
 "metadata": {
  "kernelspec": {
   "display_name": "Python 3.10.2 ('venv': venv)",
   "language": "python",
   "name": "python3"
  },
  "language_info": {
   "codemirror_mode": {
    "name": "ipython",
    "version": 3
   },
   "file_extension": ".py",
   "mimetype": "text/x-python",
   "name": "python",
   "nbconvert_exporter": "python",
   "pygments_lexer": "ipython3",
   "version": "3.10.2 (tags/v3.10.2:a58ebcc, Jan 17 2022, 14:12:15) [MSC v.1929 64 bit (AMD64)]"
  },
  "orig_nbformat": 4,
  "vscode": {
   "interpreter": {
    "hash": "1fc8bbdf4a64551d12bb41b817ff4e4b1bafd30afb3353483bf0700436ef2a82"
   }
  }
 },
 "nbformat": 4,
 "nbformat_minor": 2
}
