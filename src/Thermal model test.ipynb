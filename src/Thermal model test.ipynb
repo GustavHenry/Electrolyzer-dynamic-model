{
 "cells": [
  {
   "cell_type": "markdown",
   "metadata": {},
   "source": [
    "# 重新实现之前的线性热模型\n",
    "应该只需要读取第一次实验的数据，这里主要想规范一下之前的写法"
   ]
  },
  {
   "cell_type": "code",
   "execution_count": 1,
   "metadata": {},
   "outputs": [],
   "source": [
    "import pandas as pd\n",
    "import numpy as np\n",
    "import os\n",
    "from keys import *\n",
    "import math\n",
    "\n",
    "from tqdm import tqdm\n",
    "from loader import Loader\n",
    "from thermal_model.data import *\n",
    "from utils_thermal_model_raw_process import *\n",
    "import matplotlib.pyplot as plt\n",
    "from plotter import SinglePlotter"
   ]
  },
  {
   "cell_type": "markdown",
   "metadata": {},
   "source": [
    "# 读取数据并且缓存成单独pickle"
   ]
  },
  {
   "cell_type": "code",
   "execution_count": 2,
   "metadata": {},
   "outputs": [
    {
     "name": "stdout",
     "output_type": "stream",
     "text": [
      "   Reading data from cache: ../.cache\\thermal_model_data_1101\n"
     ]
    }
   ],
   "source": [
    "df_thermal_model_data_raw = ThermalModelData().load()"
   ]
  },
  {
   "cell_type": "markdown",
   "metadata": {},
   "source": []
  },
  {
   "cell_type": "code",
   "execution_count": 3,
   "metadata": {},
   "outputs": [],
   "source": [
    "df_thermal_model_data_raw = voltage_thermal_neutral(df_thermal_model_data_raw)"
   ]
  },
  {
   "cell_type": "code",
   "execution_count": 4,
   "metadata": {},
   "outputs": [
    {
     "data": {
      "text/plain": [
       "Index(['Unnamed: 0', 'date_time', 'stack_voltage', 'stack_current', '产氢量',\n",
       "       '产氢累计量', 'lye_flow', 'temp_in', 'sys_pressure', 'temp_o', 'temp_h',\n",
       "       '氧侧液位', '氢侧液位', 'OTH', 'HTO', '脱氧上温', '脱氧下温', 'B塔上温', 'B塔下温', 'C塔上温',\n",
       "       'C塔下温', 'A塔上温', 'A塔下温', '露点', '微氧量', '出罐压力', '进罐温度', '进罐压力', 'temp_out',\n",
       "       'delta_temp', 'cell_voltage', 'current_density', 'ambt_temp',\n",
       "       'voltage_thermal_neutral'],\n",
       "      dtype='object')"
      ]
     },
     "execution_count": 4,
     "metadata": {},
     "output_type": "execute_result"
    }
   ],
   "source": [
    "df_thermal_model_data_raw.columns"
   ]
  },
  {
   "cell_type": "code",
   "execution_count": 5,
   "metadata": {},
   "outputs": [],
   "source": [
    "class test_plot(SinglePlotter):\n",
    "    def __init__(self, label='Thermal model', title='test') -> None:\n",
    "        super().__init__(label, title)\n",
    "    def plot(self):\n",
    "        plt.plot(df_thermal_model_data_raw[Cols.cell_voltage])\n",
    "        plt.plot(df_thermal_model_data_raw[Cols.voltage_thermal_neutral])\n",
    "        plt.title(self.title)"
   ]
  },
  {
   "cell_type": "code",
   "execution_count": 10,
   "metadata": {},
   "outputs": [],
   "source": [
    "test = test_plot(title= 'test111')"
   ]
  },
  {
   "cell_type": "code",
   "execution_count": 12,
   "metadata": {},
   "outputs": [],
   "source": [
    "test.plot()"
   ]
  },
  {
   "cell_type": "code",
   "execution_count": null,
   "metadata": {},
   "outputs": [],
   "source": []
  }
 ],
 "metadata": {
  "kernelspec": {
   "display_name": "Python 3.10.2 ('venv': venv)",
   "language": "python",
   "name": "python3"
  },
  "language_info": {
   "codemirror_mode": {
    "name": "ipython",
    "version": 3
   },
   "file_extension": ".py",
   "mimetype": "text/x-python",
   "name": "python",
   "nbconvert_exporter": "python",
   "pygments_lexer": "ipython3",
   "version": "3.9.0"
  },
  "orig_nbformat": 4,
  "vscode": {
   "interpreter": {
    "hash": "1fc8bbdf4a64551d12bb41b817ff4e4b1bafd30afb3353483bf0700436ef2a82"
   }
  }
 },
 "nbformat": 4,
 "nbformat_minor": 2
}
