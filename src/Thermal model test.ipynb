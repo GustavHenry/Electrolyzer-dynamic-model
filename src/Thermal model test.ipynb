{
 "cells": [
  {
   "cell_type": "markdown",
   "metadata": {},
   "source": [
    "# 重新实现之前的线性热模型\n",
    "应该只需要读取第一次实验的数据，这里主要想规范一下之前的写法"
   ]
  },
  {
   "cell_type": "code",
   "execution_count": 1,
   "metadata": {},
   "outputs": [],
   "source": [
    "import pandas as pd\n",
    "import numpy as np\n",
    "import os\n",
    "from keys import *\n",
    "import math\n",
    "\n",
    "from tqdm import tqdm\n",
    "from loader import Loader\n",
    "from thermal_model.data import *\n",
    "from thermal_model.configs import *\n",
    "from thermal_model.figure_plotter import *\n",
    "from utils_thermal_model_raw_process import *\n",
    "import matplotlib.pyplot as plt\n",
    "from plotter import Plotter\n",
    "import seaborn as sns\n",
    "from sklearn.linear_model import LinearRegression,Lars\n",
    "from sklearn.ensemble import RandomForestRegressor\n",
    "from thermal_model.thermal_model import fit_random_forest, model_estimator,fit_LARS\n",
    "import pickle\n",
    "import math\n",
    "from thermal_model.electrolyzer import Electrolyzer\n",
    "from thermal_model.original_thermal_model_and_plotter_0117 import current_TlyeIn_liftcycle_cost\n",
    "\n"
   ]
  },
  {
   "cell_type": "markdown",
   "metadata": {},
   "source": [
    "# 读取数据并且缓存成单独pickle"
   ]
  },
  {
   "cell_type": "code",
   "execution_count": null,
   "metadata": {},
   "outputs": [],
   "source": [
    "df_thermal_model_data_raw = ThermalModelData().load()"
   ]
  },
  {
   "cell_type": "markdown",
   "metadata": {},
   "source": [
    "# 生成线性模型的输入项"
   ]
  },
  {
   "cell_type": "code",
   "execution_count": null,
   "metadata": {},
   "outputs": [],
   "source": [
    "df_thermal_model_data_input = generate_model_input(df_thermal_model_data_raw)"
   ]
  },
  {
   "cell_type": "code",
   "execution_count": null,
   "metadata": {},
   "outputs": [],
   "source": [
    "df_thermal_model_data_input.columns"
   ]
  },
  {
   "cell_type": "markdown",
   "metadata": {},
   "source": [
    "# 生成模型（应该使用线性模型）"
   ]
  },
  {
   "cell_type": "code",
   "execution_count": null,
   "metadata": {},
   "outputs": [],
   "source": [
    "model_random_forest,model_input,model_target = fit_random_forest(df_thermal_model_data_input,6)"
   ]
  },
  {
   "cell_type": "code",
   "execution_count": null,
   "metadata": {},
   "outputs": [],
   "source": [
    "( model_predict, error) = model_estimator(\n",
    "    model_random_forest,model_input,model_target\n",
    ")"
   ]
  },
  {
   "cell_type": "code",
   "execution_count": null,
   "metadata": {},
   "outputs": [],
   "source": [
    "Thermal_model_regression_scatter(\n",
    "    model_target = model_target,\n",
    "    model_predict = model_predict,\n",
    "    title_model=\"随机森林\",\n",
    ").save()"
   ]
  },
  {
   "cell_type": "code",
   "execution_count": null,
   "metadata": {},
   "outputs": [],
   "source": [
    "Thermal_model_regression_error_histplot(\n",
    "    model_target=model_target,\n",
    "    error=error,\n",
    "    title_model=\"随机森林\"\n",
    ").save()"
   ]
  },
  {
   "cell_type": "code",
   "execution_count": null,
   "metadata": {},
   "outputs": [],
   "source": [
    "Thermal_model_regression_cumulative_error_plot(\n",
    "    model_target=model_target,\n",
    "    model_predict=model_predict\n",
    ").save()"
   ]
  },
  {
   "cell_type": "code",
   "execution_count": null,
   "metadata": {},
   "outputs": [],
   "source": [
    "model_lars,model_input,model_target = fit_LARS(df_thermal_model_data_input)"
   ]
  },
  {
   "cell_type": "code",
   "execution_count": null,
   "metadata": {},
   "outputs": [],
   "source": [
    "( model_predict, error) = model_estimator(\n",
    "    model_lars,model_input,model_target\n",
    ")"
   ]
  },
  {
   "cell_type": "code",
   "execution_count": null,
   "metadata": {},
   "outputs": [],
   "source": [
    "Thermal_model_regression_scatter(\n",
    "    model_target = model_target,\n",
    "    model_predict = model_predict,\n",
    "    title_model=\"LARS\",\n",
    ").save()"
   ]
  },
  {
   "cell_type": "code",
   "execution_count": null,
   "metadata": {},
   "outputs": [],
   "source": [
    "Thermal_model_regression_error_histplot(\n",
    "    model_target=model_target,\n",
    "    error=error,\n",
    "    title_model=\"LARS\"\n",
    ").save()"
   ]
  },
  {
   "cell_type": "code",
   "execution_count": null,
   "metadata": {},
   "outputs": [],
   "source": [
    "Thermal_model_regression_cumulative_error_plot(\n",
    "    model_target=model_target,\n",
    "    model_predict=model_predict,\n",
    "    title_model='LARS'\n",
    ").save()"
   ]
  },
  {
   "cell_type": "markdown",
   "metadata": {},
   "source": [
    "# 测试模型功能"
   ]
  },
  {
   "cell_type": "code",
   "execution_count": null,
   "metadata": {},
   "outputs": [],
   "source": [
    "current_TlyeIn_liftcycle_cost()"
   ]
  },
  {
   "cell_type": "code",
   "execution_count": 7,
   "metadata": {},
   "outputs": [],
   "source": [
    "class Model_life_cycle_hydrogen_cost(HexaPlotter):\n",
    "    def __init__(\n",
    "        self, \n",
    "        label=\"Thermal model\", \n",
    "        title=\"不同工况下电解槽全生命周期制氢成本\", \n",
    "        num_subplot=6, \n",
    "        title_plot=False\n",
    "    ) -> None:\n",
    "        super().__init__(label, title, num_subplot, title_plot)\n",
    "        # 这里应该包含两个大类，一个是30万一个是60万成本\n",
    "        self.electrolyzer = Electrolyzer()\n",
    "    \n",
    "    def plot_1(self):\n",
    "        lye_temperature_range = range(\n",
    "            OperatingRange.Contour.Lye_temperature.left,\n",
    "            OperatingRange.Contour.Lye_temperature.right,\n",
    "            OperatingRange.Contour.Lye_temperature.step\n",
    "        )\n",
    "        current_range = range(\n",
    "            OperatingRange.Contour.Current.left,\n",
    "            OperatingRange.Contour.Current.right,\n",
    "            OperatingRange.Contour.Current.step\n",
    "        )\n",
    "        ambient_temperature = OperatingCondition.Default.ambient_temperature\n",
    "        lye_flow = OperatingCondition.Default.lye_flow\n",
    "        electricity_price = LifeCycle.electricity_price\n",
    "        electrolyzer_price = 250000\n",
    "        cooling_efficiency = LifeCycle.cooling_efficiency\n",
    "        heating_efficiency = LifeCycle.heating_efficiency\n",
    "        cost_matrix = np.ones(\n",
    "            (\n",
    "                len(lye_temperature_range),\n",
    "                len(current_range)\n",
    "            )\n",
    "        ) # 电解槽全生命周期制氢成本\n",
    "        for i in range(len(current_range)):\n",
    "            for j in range(len(lye_temperature_range)):\n",
    "\n",
    "                current = current_range[i]\n",
    "                lye_temperature = lye_temperature_range[j]\n",
    "                cost_matrix[j,i] = self.electrolyzer.hydrogen_cost_lifecycle_USD(\n",
    "                    current=current,\n",
    "                    ambient_temperature=ambient_temperature,\n",
    "                    lye_flow=lye_flow,\n",
    "                    lye_temperature=lye_temperature,\n",
    "                    cooling_efficiency=cooling_efficiency,\n",
    "                    heating_efficiency=heating_efficiency,\n",
    "                    electricity_price=electricity_price,\n",
    "                    electrolyzer_price=electrolyzer_price,\n",
    "                )\n",
    "                \n",
    "        cost_default = self.electrolyzer.hydrogen_cost_lifecycle_USD(\n",
    "                    current=OperatingCondition.Rated.current,\n",
    "                    lye_temperature=OperatingCondition.Rated.lye_temperature,\n",
    "                    ambient_temperature=ambient_temperature,\n",
    "                    lye_flow=lye_flow,\n",
    "                    cooling_efficiency=cooling_efficiency,\n",
    "                    heating_efficiency=heating_efficiency,\n",
    "                    electricity_price=electricity_price,\n",
    "                    electrolyzer_price=electrolyzer_price,\n",
    "                )\n",
    "        cost_optimal = self.electrolyzer.hydrogen_cost_lifecycle_USD(\n",
    "                    current=OperatingCondition.Optimal.current,\n",
    "                    lye_temperature=OperatingCondition.Optimal.lye_temperature,\n",
    "                    ambient_temperature=ambient_temperature,\n",
    "                    lye_flow=lye_flow,\n",
    "                    cooling_efficiency=cooling_efficiency,\n",
    "                    heating_efficiency=heating_efficiency,\n",
    "                    electricity_price=electricity_price,\n",
    "                    electrolyzer_price=electrolyzer_price,\n",
    "                )\n",
    "        self.plot_contour_map_with_2_points(\n",
    "            matrix=cost_matrix,\n",
    "            x_range=np.array(current_range) / self.electrolyzer.active_surface_area,\n",
    "            y_range=lye_temperature_range,\n",
    "            value_default=cost_default,\n",
    "            value_optimal=cost_optimal,\n",
    "            unit=' $USD/kg',\n",
    "            value_max=5.6,\n",
    "            value_min=4.4\n",
    "        )\n",
    "\n",
    "    def plot_2(self):\n",
    "        lye_temperature_range = range(\n",
    "            OperatingRange.Contour.Lye_temperature.left,\n",
    "            OperatingRange.Contour.Lye_temperature.right,\n",
    "            OperatingRange.Contour.Lye_temperature.step\n",
    "        )\n",
    "        current_range = range(\n",
    "            OperatingRange.Contour.Current.left,\n",
    "            OperatingRange.Contour.Current.right,\n",
    "            OperatingRange.Contour.Current.step\n",
    "        )\n",
    "        ambient_temperature = OperatingCondition.Default.ambient_temperature\n",
    "        lye_flow = OperatingCondition.Default.lye_flow\n",
    "        electricity_price = LifeCycle.electricity_price\n",
    "        electrolyzer_price = 500000\n",
    "        cooling_efficiency = LifeCycle.cooling_efficiency\n",
    "        heating_efficiency = LifeCycle.heating_efficiency\n",
    "        cost_matrix = np.ones(\n",
    "            (\n",
    "                len(lye_temperature_range),\n",
    "                len(current_range)\n",
    "            )\n",
    "        ) # 电解槽全生命周期制氢成本\n",
    "        for i in range(len(current_range)):\n",
    "            for j in range(len(lye_temperature_range)):\n",
    "\n",
    "                current = current_range[i]\n",
    "                lye_temperature = lye_temperature_range[j]\n",
    "                cost_matrix[j,i] = self.electrolyzer.hydrogen_cost_lifecycle_USD(\n",
    "                    current=current,\n",
    "                    ambient_temperature=ambient_temperature,\n",
    "                    lye_flow=lye_flow,\n",
    "                    lye_temperature=lye_temperature,\n",
    "                    cooling_efficiency=cooling_efficiency,\n",
    "                    heating_efficiency=heating_efficiency,\n",
    "                    electricity_price=electricity_price,\n",
    "                    electrolyzer_price=electrolyzer_price,\n",
    "                )\n",
    "                \n",
    "        cost_default = self.electrolyzer.hydrogen_cost_lifecycle_USD(\n",
    "                    current=OperatingCondition.Rated.current,\n",
    "                    lye_temperature=OperatingCondition.Rated.lye_temperature,\n",
    "                    ambient_temperature=ambient_temperature,\n",
    "                    lye_flow=lye_flow,\n",
    "                    cooling_efficiency=cooling_efficiency,\n",
    "                    heating_efficiency=heating_efficiency,\n",
    "                    electricity_price=electricity_price,\n",
    "                    electrolyzer_price=electrolyzer_price,\n",
    "                )\n",
    "        cost_optimal = self.electrolyzer.hydrogen_cost_lifecycle_USD(\n",
    "                    current=OperatingCondition.Optimal.current,\n",
    "                    lye_temperature=OperatingCondition.Optimal.lye_temperature,\n",
    "                    ambient_temperature=ambient_temperature,\n",
    "                    lye_flow=lye_flow,\n",
    "                    cooling_efficiency=cooling_efficiency,\n",
    "                    heating_efficiency=heating_efficiency,\n",
    "                    electricity_price=electricity_price,\n",
    "                    electrolyzer_price=electrolyzer_price,\n",
    "                )\n",
    "        self.plot_contour_map_with_2_points(\n",
    "            matrix=cost_matrix,\n",
    "            x_range=np.array(current_range) / self.electrolyzer.active_surface_area,\n",
    "            y_range=lye_temperature_range,\n",
    "            value_default=cost_default,\n",
    "            value_optimal=cost_optimal,\n",
    "            unit=' $/kg',\n",
    "            value_max=5.6,\n",
    "            value_min=4.4\n",
    "        )\n",
    "    \n",
    "    def plot_3(self):\n",
    "        # 两个工况点在不同碱液流量下的成本，最好也能包含不同的价格\n",
    "        lye_flow_range = np.arange(\n",
    "            OperatingRange.Cooling.Lye_flow.left,\n",
    "            OperatingRange.Cooling.Lye_flow.right,\n",
    "            OperatingRange.Cooling.Lye_flow.step/3\n",
    "        )\n",
    "        ambient_temperature = OperatingCondition.Default.ambient_temperature\n",
    "\n",
    "        ambient_temperature = OperatingCondition.Default.ambient_temperature\n",
    "        electricity_price = LifeCycle.electricity_price\n",
    "        electrolyzer_price_list = [150000,250000,350000]\n",
    "        cooling_efficiency = LifeCycle.cooling_efficiency\n",
    "        heating_efficiency = LifeCycle.heating_efficiency\n",
    "        color_idx = 0\n",
    "        for electrolyzer_price in electrolyzer_price_list:\n",
    "            cost_list_optimal = []\n",
    "            cost_list_rated = []\n",
    "            for lye_flow in lye_flow_range:\n",
    "                cost_cur_optimal = self.electrolyzer.hydrogen_cost_lifecycle_USD(\n",
    "                    current= OperatingCondition.Optimal.current,\n",
    "                    lye_temperature=OperatingCondition.Optimal.lye_temperature,\n",
    "                    lye_flow=lye_flow,\n",
    "                    ambient_temperature=ambient_temperature,\n",
    "                    electricity_price=electricity_price,\n",
    "                    electrolyzer_price=electrolyzer_price,\n",
    "                    cooling_efficiency=cooling_efficiency,\n",
    "                    heating_efficiency=heating_efficiency,\n",
    "                )\n",
    "                cost_cur_rated = self.electrolyzer.hydrogen_cost_lifecycle_USD(\n",
    "                    current= OperatingCondition.Default.current,\n",
    "                    lye_temperature=OperatingCondition.Default.lye_temperature,\n",
    "                    lye_flow=lye_flow,\n",
    "                    ambient_temperature=ambient_temperature,\n",
    "                    electricity_price=electricity_price,\n",
    "                    electrolyzer_price=electrolyzer_price,\n",
    "                    cooling_efficiency=cooling_efficiency,\n",
    "                    heating_efficiency=heating_efficiency,\n",
    "                )\n",
    "                cost_list_optimal.append(cost_cur_optimal)\n",
    "                cost_list_rated.append(cost_cur_rated)\n",
    "            plt.plot(\n",
    "                lye_flow_range,\n",
    "                cost_list_optimal,\n",
    "                label = 'Optimal condition, price = ${}'.format(\n",
    "                    np.round(\n",
    "                        electrolyzer_price*LifeCycle.RMB_2_USD,\n",
    "                        1\n",
    "                    )\n",
    "                ),\n",
    "                marker = '.',\n",
    "                color = self.color_list[color_idx]\n",
    "            )\n",
    "            plt.plot(\n",
    "                lye_flow_range,\n",
    "                cost_list_rated,\n",
    "                label = 'Rated condition, price = ${}'.format(\n",
    "                    np.round(\n",
    "                        electrolyzer_price*LifeCycle.RMB_2_USD,\n",
    "                        1\n",
    "                    )\n",
    "                ),\n",
    "                marker = 'x',\n",
    "                color = self.color_list[color_idx]\n",
    "            )\n",
    "            color_idx += 1\n",
    "        plt.xlabel(\n",
    "            r'$Lye\\ flow (m^3/h)$',\n",
    "        )\n",
    "        plt.ylabel(\n",
    "            r'$Hydrogen\\ production\\ cost\\ (\\$/kg)$'\n",
    "        )\n",
    "        # plt.ylim([4.2,5.8])\n",
    "        plt.legend(\n",
    "            title = 'Operating condition'\n",
    "        )\n",
    "        plt.ylim([4.4,5.6])\n",
    "\n",
    "    def plot_4_archived(self):\n",
    "        # 两个工况点在不同电解槽价格下的氢气价格\n",
    "        electrolyzer_price_range = range(\n",
    "            LifeCycle.ElectrolyzerPriceRange.left,\n",
    "            LifeCycle.ElectrolyzerPriceRange.right,\n",
    "            LifeCycle.ElectrolyzerPriceRange.step\n",
    "        )\n",
    "        lye_flow_list = [0.8,1.2,1.6]\n",
    "        ambient_temperature = OperatingCondition.Default.ambient_temperature\n",
    "\n",
    "        ambient_temperature = OperatingCondition.Default.ambient_temperature\n",
    "        electricity_price = LifeCycle.electricity_price\n",
    "        cooling_efficiency = LifeCycle.cooling_efficiency\n",
    "        heating_efficiency = LifeCycle.heating_efficiency\n",
    "        color_idx = 0\n",
    "        for lye_flow in lye_flow_list:\n",
    "            \n",
    "            cost_list_optimal = []\n",
    "            cost_list_rated = []\n",
    "            for electrolyzer_price in electrolyzer_price_range:\n",
    "                cost_cur_optimal = self.electrolyzer.hydrogen_cost_lifecycle_USD(\n",
    "                    current= OperatingCondition.Optimal.current,\n",
    "                    lye_temperature=OperatingCondition.Optimal.lye_temperature,\n",
    "                    lye_flow=lye_flow,\n",
    "                    ambient_temperature=ambient_temperature,\n",
    "                    electricity_price=electricity_price,\n",
    "                    electrolyzer_price=electrolyzer_price,\n",
    "                    cooling_efficiency=cooling_efficiency,\n",
    "                    heating_efficiency=heating_efficiency,\n",
    "                )\n",
    "                cost_cur_rated = self.electrolyzer.hydrogen_cost_lifecycle_USD(\n",
    "                    current= OperatingCondition.Default.current,\n",
    "                    lye_temperature=OperatingCondition.Default.lye_temperature,\n",
    "                    lye_flow=lye_flow,\n",
    "                    ambient_temperature=ambient_temperature,\n",
    "                    electricity_price=electricity_price,\n",
    "                    electrolyzer_price=electrolyzer_price,\n",
    "                    cooling_efficiency=cooling_efficiency,\n",
    "                    heating_efficiency=heating_efficiency,\n",
    "                )\n",
    "                cost_list_optimal.append(cost_cur_optimal)\n",
    "                cost_list_rated.append(cost_cur_rated)\n",
    "            plt.plot(\n",
    "                np.array(electrolyzer_price_range)*LifeCycle.RMB_2_USD,\n",
    "                cost_list_optimal,\n",
    "                label = 'Optimal condition, lye flow = {}'.format(lye_flow),\n",
    "                marker = '.',\n",
    "                color = self.color_list[color_idx]\n",
    "            )\n",
    "            if not lye_flow == 1.6:\n",
    "                plt.plot(\n",
    "                    np.array(electrolyzer_price_range)*LifeCycle.RMB_2_USD,\n",
    "                    cost_list_rated,\n",
    "                    label = 'Rated condition, lye flow = {}'.format(lye_flow),\n",
    "                    marker = 'x',\n",
    "                color = self.color_list[color_idx]\n",
    "                )\n",
    "            color_idx += 1\n",
    "        plt.xlabel(\n",
    "            'Electrolyzer price ($)',\n",
    "        )\n",
    "        plt.ylabel(\n",
    "            r'$Hydrogen\\ production\\ cost\\ (\\$/kg)$'\n",
    "        )\n",
    "        plt.ylim([4.3,5.9])\n",
    "        plt.legend(\n",
    "            title = 'Operating condition'\n",
    "        )\n",
    "    \n",
    "    def plot_4(self):\n",
    "        electricity_price_range = np.arange(0.4,1.5,0.2)\n",
    "        current_range = range(\n",
    "            OperatingRange.Contour.Current.left,\n",
    "            OperatingRange.Contour.Current.right,\n",
    "            OperatingRange.Contour.Current.step\n",
    "        )\n",
    "        lye_temperature = 60\n",
    "        lye_flow = OperatingCondition.Default.lye_flow\n",
    "        ambient_temperature = OperatingCondition.Default.ambient_temperature\n",
    "        electricity_price = LifeCycle.electricity_price\n",
    "        cooling_efficiency = LifeCycle.cooling_efficiency\n",
    "        heating_efficiency = LifeCycle.heating_efficiency\n",
    "        electrolyzer_price = 250000\n",
    "        for electricity_price in electricity_price_range:\n",
    "            cost_list = []\n",
    "            for current in current_range:\n",
    "                self.electrolyzer.hydrogen_cost_lifecycle_detail(\n",
    "                    current= current,\n",
    "                    lye_temperature=lye_temperature,\n",
    "                    lye_flow=lye_flow,\n",
    "                    ambient_temperature=ambient_temperature,\n",
    "                    electricity_price=electricity_price,\n",
    "                    electrolyzer_price=electrolyzer_price,\n",
    "                    cooling_efficiency=cooling_efficiency,\n",
    "                    heating_efficiency=heating_efficiency,\n",
    "                )\n",
    "                \n",
    "            plt.plot(\n",
    "                np.array(current_range) / self.electrolyzer.active_surface_area,\n",
    "                cost_list,\n",
    "                label = np.round(electricity_price*LifeCycle.RMB_2_USD,2)\n",
    "            )\n",
    "        plt.xlabel(\n",
    "            r'$Current\\ density (A/m^2)$'\n",
    "        )\n",
    "        plt.ylabel(\n",
    "            r'$Hydrogen\\ production\\ cost\\ (\\$/kg)$'\n",
    "        )\n",
    "        plt.ylim([0,20])\n",
    "        plt.legend(\n",
    "            title = 'Electricity price ($/kWh)'\n",
    "        )\n",
    "\n",
    "    def plot_5(self):\n",
    "        # 不同碱液温度与电流下，电解槽的最低制氢成本点变化\n",
    "        lye_temperature_list = [40,50,60,70,80]\n",
    "        current_range = range(\n",
    "            OperatingRange.Contour.Current.left,\n",
    "            OperatingRange.Contour.Current.right,\n",
    "            OperatingRange.Contour.Current.step\n",
    "        )\n",
    "        \n",
    "        lye_flow = OperatingCondition.Default.lye_flow\n",
    "        ambient_temperature = OperatingCondition.Default.ambient_temperature\n",
    "        electricity_price = LifeCycle.electricity_price\n",
    "        cooling_efficiency = LifeCycle.cooling_efficiency\n",
    "        heating_efficiency = LifeCycle.heating_efficiency\n",
    "        electrolyzer_price = 250000\n",
    "        for lye_temperature in lye_temperature_list:\n",
    "            cost_list = []\n",
    "            for current in current_range:\n",
    "                cost_cur = self.electrolyzer.hydrogen_cost_lifecycle_USD(\n",
    "                    current= current,\n",
    "                    lye_temperature=lye_temperature,\n",
    "                    lye_flow=lye_flow,\n",
    "                    ambient_temperature=ambient_temperature,\n",
    "                    electricity_price=electricity_price,\n",
    "                    electrolyzer_price=electrolyzer_price,\n",
    "                    cooling_efficiency=cooling_efficiency,\n",
    "                    heating_efficiency=heating_efficiency,\n",
    "                )\n",
    "                cost_list.append(cost_cur)\n",
    "            plt.plot(\n",
    "                np.array(current_range) / self.electrolyzer.active_surface_area,\n",
    "                cost_list,\n",
    "                label = np.round(lye_temperature,0)\n",
    "            )\n",
    "        plt.xlabel(\n",
    "            r'$Current\\ density (A/m^2)$'\n",
    "        )\n",
    "        plt.ylabel(\n",
    "            r'$Hydrogen\\ production\\ cost\\ (\\$/kg)$'\n",
    "        )\n",
    "        plt.ylim([4.4,6.0])\n",
    "        plt.legend(\n",
    "            title = r'$Lye\\ temperature\\ (^\\circ C)$'\n",
    "        )\n",
    "\n",
    "    \n",
    "    def plot_6(self):\n",
    "        # 不同电价与电流下，电解槽的最低制氢成本点变化\n",
    "        electricity_price_range = np.arange(0.4,1.5,0.2)\n",
    "        current_range = range(\n",
    "            OperatingRange.Contour.Current.left,\n",
    "            OperatingRange.Contour.Current.right,\n",
    "            OperatingRange.Contour.Current.step\n",
    "        )\n",
    "        lye_temperature = 60\n",
    "        lye_flow = OperatingCondition.Default.lye_flow\n",
    "        ambient_temperature = OperatingCondition.Default.ambient_temperature\n",
    "        electricity_price = LifeCycle.electricity_price\n",
    "        cooling_efficiency = LifeCycle.cooling_efficiency\n",
    "        heating_efficiency = LifeCycle.heating_efficiency\n",
    "        electrolyzer_price = 250000\n",
    "        for electricity_price in electricity_price_range:\n",
    "            cost_list = []\n",
    "            for current in current_range:\n",
    "                cost_cur = self.electrolyzer.hydrogen_cost_lifecycle_USD(\n",
    "                    current= current,\n",
    "                    lye_temperature=lye_temperature,\n",
    "                    lye_flow=lye_flow,\n",
    "                    ambient_temperature=ambient_temperature,\n",
    "                    electricity_price=electricity_price,\n",
    "                    electrolyzer_price=electrolyzer_price,\n",
    "                    cooling_efficiency=cooling_efficiency,\n",
    "                    heating_efficiency=heating_efficiency,\n",
    "                )\n",
    "                cost_list.append(cost_cur)\n",
    "            plt.plot(\n",
    "                np.array(current_range) / self.electrolyzer.active_surface_area,\n",
    "                cost_list,\n",
    "                label = np.round(electricity_price*LifeCycle.RMB_2_USD,2)\n",
    "            )\n",
    "        plt.xlabel(\n",
    "            r'$Current\\ density (A/m^2)$'\n",
    "        )\n",
    "        plt.ylabel(\n",
    "            r'$Hydrogen\\ production\\ cost\\ (\\$/kg)$'\n",
    "        )\n",
    "        plt.ylim([0,20])\n",
    "        plt.legend(\n",
    "            title = 'Electricity price ($/kWh)'\n",
    "        )\n",
    "\n",
    "\n",
    "    # 最好还能够探讨不同电价下的氢气价格，还没想清楚要怎么呈现\n",
    "    # 还可以讨论整个生命周期的盈利？或者收入？\n",
    "    # 应当加入60摄氏度碱液入口温度下，不同电流密度情况下的氢气成本堆积折线图，包含购置成本、制氢成本、冷却成本等"
   ]
  },
  {
   "cell_type": "code",
   "execution_count": 8,
   "metadata": {},
   "outputs": [
    {
     "ename": "TypeError",
     "evalue": "cannot unpack non-iterable numpy.float64 object",
     "output_type": "error",
     "traceback": [
      "\u001b[1;31m---------------------------------------------------------------------------\u001b[0m",
      "\u001b[1;31mTypeError\u001b[0m                                 Traceback (most recent call last)",
      "Cell \u001b[1;32mIn [8], line 1\u001b[0m\n\u001b[1;32m----> 1\u001b[0m Model_life_cycle_hydrogen_cost()\u001b[39m.\u001b[39;49msave()\n",
      "File \u001b[1;32md:\\Devs\\Electrolyzer_dynamic_model\\src\\plotter.py:180\u001b[0m, in \u001b[0;36mPlotter.save\u001b[1;34m(self)\u001b[0m\n\u001b[0;32m    178\u001b[0m \u001b[39mif\u001b[39;00m \u001b[39mself\u001b[39m\u001b[39m.\u001b[39mtitle_plot:\n\u001b[0;32m    179\u001b[0m     plt\u001b[39m.\u001b[39mtitle(\u001b[39mself\u001b[39m\u001b[39m.\u001b[39mtitle)\n\u001b[1;32m--> 180\u001b[0m \u001b[39mself\u001b[39;49m\u001b[39m.\u001b[39;49mplot()\n\u001b[0;32m    182\u001b[0m \u001b[39mif\u001b[39;00m \u001b[39mnot\u001b[39;00m os\u001b[39m.\u001b[39mpath\u001b[39m.\u001b[39mexists(FIGURES_DIR):\n\u001b[0;32m    183\u001b[0m     os\u001b[39m.\u001b[39mmakedirs(FIGURES_DIR, exist_ok\u001b[39m=\u001b[39m\u001b[39mTrue\u001b[39;00m)\n",
      "File \u001b[1;32md:\\Devs\\Electrolyzer_dynamic_model\\src\\plotter.py:283\u001b[0m, in \u001b[0;36mHexaPlotter.plot\u001b[1;34m(self)\u001b[0m\n\u001b[0;32m    281\u001b[0m \u001b[39mself\u001b[39m\u001b[39m.\u001b[39mplot_3()\n\u001b[0;32m    282\u001b[0m plt\u001b[39m.\u001b[39msubplot(\u001b[39m3\u001b[39m,\u001b[39m2\u001b[39m,\u001b[39m4\u001b[39m)\n\u001b[1;32m--> 283\u001b[0m \u001b[39mself\u001b[39;49m\u001b[39m.\u001b[39;49mplot_4()\n\u001b[0;32m    284\u001b[0m plt\u001b[39m.\u001b[39msubplot(\u001b[39m3\u001b[39m,\u001b[39m2\u001b[39m,\u001b[39m5\u001b[39m)\n\u001b[0;32m    285\u001b[0m \u001b[39mself\u001b[39m\u001b[39m.\u001b[39mplot_5()\n",
      "Cell \u001b[1;32mIn [7], line 317\u001b[0m, in \u001b[0;36mModel_life_cycle_hydrogen_cost.plot_4\u001b[1;34m(self)\u001b[0m\n\u001b[0;32m    315\u001b[0m     cost_list \u001b[39m=\u001b[39m []\n\u001b[0;32m    316\u001b[0m     \u001b[39mfor\u001b[39;00m current \u001b[39min\u001b[39;00m current_range:\n\u001b[1;32m--> 317\u001b[0m         \u001b[39mself\u001b[39;49m\u001b[39m.\u001b[39;49melectrolyzer\u001b[39m.\u001b[39;49mhydrogen_cost_lifecycle_detail(\n\u001b[0;32m    318\u001b[0m             current\u001b[39m=\u001b[39;49m current,\n\u001b[0;32m    319\u001b[0m             lye_temperature\u001b[39m=\u001b[39;49mlye_temperature,\n\u001b[0;32m    320\u001b[0m             lye_flow\u001b[39m=\u001b[39;49mlye_flow,\n\u001b[0;32m    321\u001b[0m             ambient_temperature\u001b[39m=\u001b[39;49mambient_temperature,\n\u001b[0;32m    322\u001b[0m             electricity_price\u001b[39m=\u001b[39;49melectricity_price,\n\u001b[0;32m    323\u001b[0m             electrolyzer_price\u001b[39m=\u001b[39;49melectrolyzer_price,\n\u001b[0;32m    324\u001b[0m             cooling_efficiency\u001b[39m=\u001b[39;49mcooling_efficiency,\n\u001b[0;32m    325\u001b[0m             heating_efficiency\u001b[39m=\u001b[39;49mheating_efficiency,\n\u001b[0;32m    326\u001b[0m         )\n\u001b[0;32m    328\u001b[0m     plt\u001b[39m.\u001b[39mplot(\n\u001b[0;32m    329\u001b[0m         np\u001b[39m.\u001b[39marray(current_range) \u001b[39m/\u001b[39m \u001b[39mself\u001b[39m\u001b[39m.\u001b[39melectrolyzer\u001b[39m.\u001b[39mactive_surface_area,\n\u001b[0;32m    330\u001b[0m         cost_list,\n\u001b[0;32m    331\u001b[0m         label \u001b[39m=\u001b[39m np\u001b[39m.\u001b[39mround(electricity_price\u001b[39m*\u001b[39mLifeCycle\u001b[39m.\u001b[39mRMB_2_USD,\u001b[39m2\u001b[39m)\n\u001b[0;32m    332\u001b[0m     )\n\u001b[0;32m    333\u001b[0m plt\u001b[39m.\u001b[39mxlabel(\n\u001b[0;32m    334\u001b[0m     \u001b[39mr\u001b[39m\u001b[39m'\u001b[39m\u001b[39m$Current\u001b[39m\u001b[39m\\\u001b[39m\u001b[39m density (A/m^2)$\u001b[39m\u001b[39m'\u001b[39m\n\u001b[0;32m    335\u001b[0m )\n",
      "File \u001b[1;32md:\\Devs\\Electrolyzer_dynamic_model\\src\\thermal_model\\electrolyzer.py:903\u001b[0m, in \u001b[0;36mElectrolyzer.hydrogen_cost_lifecycle_detail\u001b[1;34m(self, current, lye_temperature, lye_flow, ambient_temperature, electricity_price, electrolyzer_price, cooling_efficiency, heating_efficiency, additional_cost)\u001b[0m\n\u001b[0;32m    891\u001b[0m \u001b[39mdef\u001b[39;00m \u001b[39mhydrogen_cost_lifecycle_detail\u001b[39m(\n\u001b[0;32m    892\u001b[0m     \u001b[39mself\u001b[39m,\n\u001b[0;32m    893\u001b[0m     current,\n\u001b[1;32m   (...)\u001b[0m\n\u001b[0;32m    901\u001b[0m     additional_cost \u001b[39m=\u001b[39m LifeCycle\u001b[39m.\u001b[39madditional_cost\n\u001b[0;32m    902\u001b[0m ):\n\u001b[1;32m--> 903\u001b[0m     (    \n\u001b[0;32m    904\u001b[0m     electricity_electrolysis_cost_lifecycle,\n\u001b[0;32m    905\u001b[0m     electricity_cooling_cost_lifecycle\n\u001b[0;32m    906\u001b[0m     ) \u001b[39m=\u001b[39m \u001b[39mself\u001b[39m\u001b[39m.\u001b[39melectricity_cost_lifecycle(\n\u001b[0;32m    907\u001b[0m         current\u001b[39m=\u001b[39mcurrent,\n\u001b[0;32m    908\u001b[0m         lye_temperature\u001b[39m=\u001b[39mlye_temperature,\n\u001b[0;32m    909\u001b[0m         lye_flow\u001b[39m=\u001b[39mlye_flow,\n\u001b[0;32m    910\u001b[0m         ambient_temperature\u001b[39m=\u001b[39mambient_temperature,\n\u001b[0;32m    911\u001b[0m         cooling_efficiency\u001b[39m=\u001b[39mcooling_efficiency,\n\u001b[0;32m    912\u001b[0m         heating_efficiency\u001b[39m=\u001b[39mheating_efficiency,\n\u001b[0;32m    913\u001b[0m         electricity_price \u001b[39m=\u001b[39m electricity_price\n\u001b[0;32m    914\u001b[0m     )\n\u001b[0;32m    916\u001b[0m     total_cost_lifecycle \u001b[39m=\u001b[39m electricity_electrolysis_cost_lifecycle \u001b[39m+\u001b[39m electricity_cooling_cost_lifecycle \u001b[39m+\u001b[39m electrolyzer_price\n\u001b[0;32m    917\u001b[0m     hydrogen_production_lifecycle \u001b[39m=\u001b[39m \u001b[39mself\u001b[39m\u001b[39m.\u001b[39mhydrogen_production_lifecycle(\n\u001b[0;32m    918\u001b[0m         current\u001b[39m=\u001b[39mcurrent,\n\u001b[0;32m    919\u001b[0m         ambient_temperature\u001b[39m=\u001b[39mambient_temperature,\n\u001b[0;32m    920\u001b[0m         lye_flow\u001b[39m=\u001b[39mlye_flow,\n\u001b[0;32m    921\u001b[0m         lye_temperature\u001b[39m=\u001b[39mlye_temperature\n\u001b[0;32m    922\u001b[0m     )\n",
      "\u001b[1;31mTypeError\u001b[0m: cannot unpack non-iterable numpy.float64 object"
     ]
    }
   ],
   "source": [
    "Model_life_cycle_hydrogen_cost().save()"
   ]
  },
  {
   "cell_type": "code",
   "execution_count": 3,
   "metadata": {},
   "outputs": [
    {
     "ename": "TypeError",
     "evalue": "cannot unpack non-iterable float object",
     "output_type": "error",
     "traceback": [
      "\u001b[1;31m---------------------------------------------------------------------------\u001b[0m",
      "\u001b[1;31mTypeError\u001b[0m                                 Traceback (most recent call last)",
      "Cell \u001b[1;32mIn [3], line 1\u001b[0m\n\u001b[1;32m----> 1\u001b[0m Electrolyzer()\u001b[39m.\u001b[39;49melectricity_cost_lifecycle_detail(\n\u001b[0;32m      2\u001b[0m     current \u001b[39m=\u001b[39;49m \u001b[39m1700\u001b[39;49m,\n\u001b[0;32m      3\u001b[0m     lye_flow\u001b[39m=\u001b[39;49m\u001b[39m1.2\u001b[39;49m,\n\u001b[0;32m      4\u001b[0m     lye_temperature\u001b[39m=\u001b[39;49m\u001b[39m60\u001b[39;49m,\n\u001b[0;32m      5\u001b[0m     ambient_temperature\u001b[39m=\u001b[39;49m\u001b[39m25\u001b[39;49m,\n\u001b[0;32m      6\u001b[0m     cooling_efficiency\u001b[39m=\u001b[39;49m\u001b[39m0.1\u001b[39;49m,\n\u001b[0;32m      7\u001b[0m     heating_efficiency\u001b[39m=\u001b[39;49m\u001b[39m0.1\u001b[39;49m,\n\u001b[0;32m      8\u001b[0m     electricity_price\u001b[39m=\u001b[39;49m\u001b[39m0.4\u001b[39;49m\n\u001b[0;32m      9\u001b[0m )\n",
      "File \u001b[1;32md:\\Devs\\Electrolyzer_dynamic_model\\src\\thermal_model\\electrolyzer.py:872\u001b[0m, in \u001b[0;36mElectrolyzer.electricity_cost_lifecycle_detail\u001b[1;34m(self, current, lye_temperature, lye_flow, ambient_temperature, cooling_efficiency, heating_efficiency, electricity_price)\u001b[0m\n\u001b[0;32m    862\u001b[0m \u001b[39mdef\u001b[39;00m \u001b[39melectricity_cost_lifecycle_detail\u001b[39m(\n\u001b[0;32m    863\u001b[0m     \u001b[39mself\u001b[39m,\n\u001b[0;32m    864\u001b[0m     current,\n\u001b[1;32m   (...)\u001b[0m\n\u001b[0;32m    870\u001b[0m     electricity_price\n\u001b[0;32m    871\u001b[0m ):\n\u001b[1;32m--> 872\u001b[0m     electrolysis_power,cooling_power \u001b[39m=\u001b[39m \u001b[39mself\u001b[39m\u001b[39m.\u001b[39mpower_total(\n\u001b[0;32m    873\u001b[0m         current\u001b[39m=\u001b[39mcurrent,\n\u001b[0;32m    874\u001b[0m         lye_temperature\u001b[39m=\u001b[39mlye_temperature,\n\u001b[0;32m    875\u001b[0m         lye_flow\u001b[39m=\u001b[39mlye_flow,\n\u001b[0;32m    876\u001b[0m         ambient_temperature\u001b[39m=\u001b[39mambient_temperature,\n\u001b[0;32m    877\u001b[0m         cooling_efficiency\u001b[39m=\u001b[39mcooling_efficiency,\n\u001b[0;32m    878\u001b[0m         heating_efficiency\u001b[39m=\u001b[39mheating_efficiency,\n\u001b[0;32m    879\u001b[0m     ) \n\u001b[0;32m    880\u001b[0m     electricity_electrolysis_lifecycle \u001b[39m=\u001b[39m electrolysis_power\u001b[39m*\u001b[39m (\n\u001b[0;32m    881\u001b[0m         LifeCycle\u001b[39m.\u001b[39mservice_year \u001b[39m*\u001b[39m LifeCycle\u001b[39m.\u001b[39mhour_in_year \u001b[39m*\u001b[39m LifeCycle\u001b[39m.\u001b[39mservice_rate\n\u001b[0;32m    882\u001b[0m     )\n\u001b[0;32m    883\u001b[0m     electricity_cooling_lifecycle \u001b[39m=\u001b[39m cooling_power \u001b[39m*\u001b[39m (\n\u001b[0;32m    884\u001b[0m         LifeCycle\u001b[39m.\u001b[39mservice_year \u001b[39m*\u001b[39m LifeCycle\u001b[39m.\u001b[39mhour_in_year \u001b[39m*\u001b[39m LifeCycle\u001b[39m.\u001b[39mservice_rate\n\u001b[0;32m    885\u001b[0m     )\n",
      "\u001b[1;31mTypeError\u001b[0m: cannot unpack non-iterable float object"
     ]
    }
   ],
   "source": [
    "Electrolyzer().electricity_cost_lifecycle_detail(\n",
    "    current = 1700,\n",
    "    lye_flow=1.2,\n",
    "    lye_temperature=60,\n",
    "    ambient_temperature=25,\n",
    "    cooling_efficiency=0.1,\n",
    "    heating_efficiency=0.1,\n",
    "    electricity_price=0.4\n",
    ")"
   ]
  },
  {
   "cell_type": "code",
   "execution_count": null,
   "metadata": {},
   "outputs": [],
   "source": []
  },
  {
   "attachments": {},
   "cell_type": "markdown",
   "metadata": {},
   "source": [
    "# 依次生成论文图片"
   ]
  },
  {
   "cell_type": "code",
   "execution_count": null,
   "metadata": {},
   "outputs": [],
   "source": [
    "Initial_delta_temp_histplot().save()"
   ]
  },
  {
   "cell_type": "code",
   "execution_count": null,
   "metadata": {},
   "outputs": [],
   "source": [
    "Initial_delta_temp_pairplot().save()"
   ]
  },
  {
   "cell_type": "code",
   "execution_count": null,
   "metadata": {},
   "outputs": [],
   "source": [
    "Model_input_data_pairplot().save()"
   ]
  },
  {
   "cell_type": "code",
   "execution_count": null,
   "metadata": {},
   "outputs": [],
   "source": [
    "Model_default_polarization_curve().save()"
   ]
  },
  {
   "cell_type": "code",
   "execution_count": null,
   "metadata": {},
   "outputs": [],
   "source": [
    "Thermal_model_regression_scatter().save()"
   ]
  },
  {
   "cell_type": "code",
   "execution_count": null,
   "metadata": {},
   "outputs": [],
   "source": [
    "Thermal_model_regression_error_histplot().save()"
   ]
  },
  {
   "cell_type": "code",
   "execution_count": null,
   "metadata": {},
   "outputs": [],
   "source": [
    "Thermal_model_regression_cumulative_error_plot().save()"
   ]
  },
  {
   "cell_type": "code",
   "execution_count": null,
   "metadata": {},
   "outputs": [],
   "source": [
    "Model_polarization_different_lye_temperature().save()"
   ]
  },
  {
   "cell_type": "code",
   "execution_count": null,
   "metadata": {},
   "outputs": [],
   "source": [
    "Model_faraday_efficiency_different_lye_temperature().save()"
   ]
  },
  {
   "cell_type": "code",
   "execution_count": null,
   "metadata": {},
   "outputs": [],
   "source": [
    "Model_output_temperature_different_lye_temperature().save()"
   ]
  },
  {
   "cell_type": "code",
   "execution_count": null,
   "metadata": {},
   "outputs": [],
   "source": [
    "Model_output_input_temperature_delta().save()"
   ]
  },
  {
   "cell_type": "code",
   "execution_count": null,
   "metadata": {},
   "outputs": [],
   "source": [
    "Model_output_temperature_different_lye_temperature().save()"
   ]
  },
  {
   "cell_type": "code",
   "execution_count": null,
   "metadata": {},
   "outputs": [],
   "source": [
    "Model_output_input_temperature_delta().save()"
   ]
  },
  {
   "cell_type": "code",
   "execution_count": null,
   "metadata": {},
   "outputs": [],
   "source": [
    "Model_cooling_power_requirement().save()\n",
    "# 要尝试探讨不同冷却效率对氢气能耗的影响"
   ]
  },
  {
   "cell_type": "code",
   "execution_count": null,
   "metadata": {},
   "outputs": [],
   "source": [
    "Model_efficiency_hydrogen_cost().save()"
   ]
  },
  {
   "cell_type": "code",
   "execution_count": null,
   "metadata": {},
   "outputs": [],
   "source": [
    "Model_life_cycle_hydrogen_cost().save()"
   ]
  },
  {
   "cell_type": "code",
   "execution_count": null,
   "metadata": {},
   "outputs": [],
   "source": []
  }
 ],
 "metadata": {
  "kernelspec": {
   "display_name": "Python 3.10.2 ('venv': venv)",
   "language": "python",
   "name": "python3"
  },
  "language_info": {
   "codemirror_mode": {
    "name": "ipython",
    "version": 3
   },
   "file_extension": ".py",
   "mimetype": "text/x-python",
   "name": "python",
   "nbconvert_exporter": "python",
   "pygments_lexer": "ipython3",
   "version": "3.10.2"
  },
  "orig_nbformat": 4,
  "vscode": {
   "interpreter": {
    "hash": "1fc8bbdf4a64551d12bb41b817ff4e4b1bafd30afb3353483bf0700436ef2a82"
   }
  }
 },
 "nbformat": 4,
 "nbformat_minor": 2
}
