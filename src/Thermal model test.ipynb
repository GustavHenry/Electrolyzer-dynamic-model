{
 "cells": [
  {
   "cell_type": "markdown",
   "metadata": {},
   "source": [
    "# 重新实现之前的线性热模型\n",
    "应该只需要读取第一次实验的数据，这里主要想规范一下之前的写法"
   ]
  },
  {
   "cell_type": "code",
   "execution_count": null,
   "metadata": {},
   "outputs": [],
   "source": [
    "import pandas as pd\n",
    "import numpy as np\n",
    "import os\n",
    "from keys import *\n",
    "import math\n",
    "\n",
    "from tqdm import tqdm\n",
    "from loader import Loader\n",
    "from thermal_model.data import *\n",
    "from thermal_model.configs import *\n",
    "from thermal_model.figure_plotter import *\n",
    "from utils_thermal_model_raw_process import *\n",
    "import matplotlib.pyplot as plt\n",
    "from plotter import Plotter\n",
    "import seaborn as sns\n",
    "from sklearn.linear_model import LinearRegression,Lars\n",
    "from sklearn.ensemble import RandomForestRegressor"
   ]
  },
  {
   "cell_type": "markdown",
   "metadata": {},
   "source": [
    "# 读取数据并且缓存成单独pickle"
   ]
  },
  {
   "cell_type": "code",
   "execution_count": null,
   "metadata": {},
   "outputs": [],
   "source": [
    "df_thermal_model_data_raw = ThermalModelData().load()"
   ]
  },
  {
   "cell_type": "markdown",
   "metadata": {},
   "source": [
    "# 生成线性模型的输入项"
   ]
  },
  {
   "cell_type": "code",
   "execution_count": null,
   "metadata": {},
   "outputs": [],
   "source": [
    "df_thermal_model_data_input = generate_model_input(df_thermal_model_data_raw)"
   ]
  },
  {
   "cell_type": "code",
   "execution_count": null,
   "metadata": {},
   "outputs": [],
   "source": [
    "df_thermal_model_data_input.columns"
   ]
  },
  {
   "cell_type": "markdown",
   "metadata": {},
   "source": [
    "# 生成模型（应该使用线性模型）"
   ]
  },
  {
   "cell_type": "code",
   "execution_count": null,
   "metadata": {},
   "outputs": [],
   "source": [
    "model = RandomForestRegressor(\n",
    "    n_estimators=10,\n",
    ")"
   ]
  },
  {
   "cell_type": "code",
   "execution_count": null,
   "metadata": {},
   "outputs": [],
   "source": [
    "model_input = df_thermal_model_data_input[thermal_model_input_cols]\n",
    "model_output = df_thermal_model_data_input[thermal_model_output_cols]"
   ]
  },
  {
   "cell_type": "code",
   "execution_count": null,
   "metadata": {},
   "outputs": [],
   "source": [
    "model.fit(\n",
    "    X = model_input,\n",
    "    y = model_output,\n",
    "    \n",
    ")"
   ]
  },
  {
   "cell_type": "code",
   "execution_count": null,
   "metadata": {},
   "outputs": [],
   "source": [
    "\n",
    "model_predict = (model.predict(model_input))\n",
    "error = np.squeeze(model_output) - model_predict\n",
    "model.score(model_input,model_output)"
   ]
  },
  {
   "cell_type": "code",
   "execution_count": null,
   "metadata": {},
   "outputs": [],
   "source": [
    "plt.scatter(\n",
    "    model_output,\n",
    "    model_predict\n",
    ")"
   ]
  },
  {
   "cell_type": "code",
   "execution_count": null,
   "metadata": {},
   "outputs": [],
   "source": [
    "_ = plt.hist(\n",
    "    error,bins = 1000\n",
    ")"
   ]
  },
  {
   "cell_type": "code",
   "execution_count": null,
   "metadata": {},
   "outputs": [],
   "source": [
    "plt.plot(np.cumsum(np.squeeze(model_output)))\n",
    "plt.plot(np.cumsum(np.squeeze(model_predict)))"
   ]
  },
  {
   "cell_type": "code",
   "execution_count": null,
   "metadata": {},
   "outputs": [],
   "source": [
    "model.feature_importances_"
   ]
  },
  {
   "cell_type": "markdown",
   "metadata": {},
   "source": [
    "# 测试模型功能"
   ]
  },
  {
   "cell_type": "code",
   "execution_count": 2,
   "metadata": {},
   "outputs": [],
   "source": [
    "from thermal_model.configs import ElectrolyzerParameter"
   ]
  },
  {
   "cell_type": "code",
   "execution_count": 3,
   "metadata": {},
   "outputs": [],
   "source": [
    "ep = ElectrolyzerParameter()"
   ]
  },
  {
   "cell_type": "code",
   "execution_count": 5,
   "metadata": {},
   "outputs": [
    {
     "data": {
      "text/plain": [
       "0.42498472674484183"
      ]
     },
     "execution_count": 5,
     "metadata": {},
     "output_type": "execute_result"
    }
   ],
   "source": [
    "ep.active_surface_area"
   ]
  },
  {
   "cell_type": "code",
   "execution_count": 6,
   "metadata": {},
   "outputs": [],
   "source": [
    "from thermal_model.original_thermal_model_and_plotter_0117 import Electrolyzer as ele_ori\n",
    "from thermal_model.electrolyzer import Electrolyzer\n"
   ]
  },
  {
   "cell_type": "code",
   "execution_count": 7,
   "metadata": {},
   "outputs": [],
   "source": [
    "electrolyzer = Electrolyzer()\n",
    "ele_ori_model = ele_ori()\n",
    "ele_ori_model.merge_coef()"
   ]
  },
  {
   "cell_type": "code",
   "execution_count": 8,
   "metadata": {},
   "outputs": [
    {
     "name": "stdout",
     "output_type": "stream",
     "text": [
      "default_ambient_temperature :\t 25\n",
      "default_current :\t 1500\n",
      "default_lye_flow :\t 1.2\n",
      "default_lye_temperature :\t 60\n",
      "parameters :\t <thermal_model.configs.ElectrolyzerParameter object at 0x00000297B3588880>\n",
      "num_cells :\t 34\n",
      "active_surface_area :\t 0.42498472674484183\n",
      "coefficient_electric_heat :\t 1\n",
      "coefficient_radiation_dissipation :\t -3.2736565035024594e-10\n",
      "coefficient_input_lye_heat :\t 0.5799335140794437\n",
      "coefficient_output_lye_heat :\t -0.6565760564700911\n",
      "coefficient_delta_temp :\t 1023.6319772802835\n",
      "interval :\t 20\n"
     ]
    }
   ],
   "source": [
    "electrolyzer.pring_all_properties()"
   ]
  },
  {
   "cell_type": "code",
   "execution_count": 9,
   "metadata": {},
   "outputs": [
    {
     "name": "stdout",
     "output_type": "stream",
     "text": [
      "surf_area_active || 0.4254470362624\n",
      "n_cell || 34\n",
      "total_length || 0.6855\n",
      "total_space || 0.35734932057370616\n",
      "vacancy_space || 0.13597287278946305\n",
      "occupied_space || 0.15038202349712662\n",
      "rate_vacancy || 0.3805040753153399\n",
      "surface_area || 4.2756352719702\n",
      "interval || 20\n",
      "max_current_density || 4000\n",
      "epsilon || 0.95\n",
      "weight_structural || 1188.0179856273003\n",
      "weight_alkaline_inside || 174.0452771705127\n",
      "weight_total || 1362.063262797813\n",
      "HC_structural || 594.0089928136501\n",
      "HC_alkaline_inside || 393.777439598285\n",
      "HC_total || 987.7864324119352\n",
      "HC_alkaline_in_flux || 0.8044444444444444\n",
      "Model_Target || [1, -3.2736565035024594e-10, 0.5799335140794437, -0.6565760564700911, 1023.6319772802835]\n",
      "corr_power || 1.0\n",
      "corr_radiation || -1.4214310326772457\n",
      "corr_HeatLyeIn || 0.7209118268943362\n",
      "corr_HeatLyeOut || -0.8161857055567431\n",
      "corr_DeltaTemp || 1.0362887600924242\n",
      "coef_power || 1.0\n",
      "coef_radiation || -3.27365650350246e-10\n",
      "coef_HeatLyeIn || 0.5799335140794437\n",
      "coef_HeatLyeOut || -0.6565760564700911\n",
      "coef_DeltaTemp || 1023.6319772802834\n"
     ]
    }
   ],
   "source": [
    "ele_ori_model.Print_All_Properties()"
   ]
  },
  {
   "cell_type": "code",
   "execution_count": 10,
   "metadata": {},
   "outputs": [],
   "source": [
    "(\n",
    "            current_list,\n",
    "            voltage_list,\n",
    "            power_list,\n",
    "            temperature_list\n",
    "        ) = electrolyzer.get_default_polarization()"
   ]
  },
  {
   "cell_type": "code",
   "execution_count": 14,
   "metadata": {},
   "outputs": [
    {
     "data": {
      "text/plain": [
       "1.8645851828000517e-153"
      ]
     },
     "execution_count": 14,
     "metadata": {},
     "output_type": "execute_result"
    }
   ],
   "source": [
    "electrolyzer.temperature_thermal_balance_current(\n",
    "    ambient_temperature=15,\n",
    "    lye_flow=1.5,\n",
    "    lye_temperature=10,\n",
    "    current=0\n",
    ")"
   ]
  },
  {
   "cell_type": "code",
   "execution_count": null,
   "metadata": {},
   "outputs": [],
   "source": []
  }
 ],
 "metadata": {
  "kernelspec": {
   "display_name": "Python 3.10.2 ('venv': venv)",
   "language": "python",
   "name": "python3"
  },
  "language_info": {
   "codemirror_mode": {
    "name": "ipython",
    "version": 3
   },
   "file_extension": ".py",
   "mimetype": "text/x-python",
   "name": "python",
   "nbconvert_exporter": "python",
   "pygments_lexer": "ipython3",
   "version": "3.10.2"
  },
  "orig_nbformat": 4,
  "vscode": {
   "interpreter": {
    "hash": "1fc8bbdf4a64551d12bb41b817ff4e4b1bafd30afb3353483bf0700436ef2a82"
   }
  }
 },
 "nbformat": 4,
 "nbformat_minor": 2
}
