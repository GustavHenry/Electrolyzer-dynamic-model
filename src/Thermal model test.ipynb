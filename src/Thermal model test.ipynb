{
 "cells": [
  {
   "cell_type": "markdown",
   "metadata": {},
   "source": [
    "# 重新实现之前的线性热模型\n",
    "应该只需要读取第一次实验的数据，这里主要想规范一下之前的写法"
   ]
  },
  {
   "cell_type": "code",
   "execution_count": 1,
   "metadata": {},
   "outputs": [],
   "source": [
    "import pandas as pd\n",
    "import numpy as np\n",
    "import os\n",
    "from keys import *\n",
    "import math\n",
    "\n",
    "from tqdm import tqdm\n",
    "from loader import Loader\n",
    "from thermal_model.data import *\n",
    "from thermal_model.configs import *\n",
    "from thermal_model.figure_plotter import *\n",
    "from utils_thermal_model_raw_process import *\n",
    "import matplotlib.pyplot as plt\n",
    "from plotter import Plotter\n",
    "import seaborn as sns\n",
    "from sklearn.linear_model import LinearRegression,Lars\n",
    "from sklearn.ensemble import RandomForestRegressor\n",
    "from thermal_model.thermal_model import fit_random_forest, model_estimator,fit_LARS\n",
    "import pickle\n",
    "import math\n",
    "from thermal_model.electrolyzer import Electrolyzer\n",
    "from thermal_model.original_thermal_model_and_plotter_0117 import Electrolyzer as ele_ori\n",
    "from thermal_model.original_thermal_model_and_plotter_0117 import *\n"
   ]
  },
  {
   "cell_type": "markdown",
   "metadata": {},
   "source": [
    "# 读取数据并且缓存成单独pickle"
   ]
  },
  {
   "cell_type": "code",
   "execution_count": null,
   "metadata": {},
   "outputs": [],
   "source": [
    "df_thermal_model_data_raw = ThermalModelData().load()"
   ]
  },
  {
   "cell_type": "markdown",
   "metadata": {},
   "source": [
    "# 生成线性模型的输入项"
   ]
  },
  {
   "cell_type": "code",
   "execution_count": null,
   "metadata": {},
   "outputs": [],
   "source": [
    "df_thermal_model_data_input = generate_model_input(df_thermal_model_data_raw)"
   ]
  },
  {
   "cell_type": "code",
   "execution_count": null,
   "metadata": {},
   "outputs": [],
   "source": [
    "df_thermal_model_data_input.columns"
   ]
  },
  {
   "cell_type": "markdown",
   "metadata": {},
   "source": [
    "# 生成模型（应该使用线性模型）"
   ]
  },
  {
   "cell_type": "code",
   "execution_count": null,
   "metadata": {},
   "outputs": [],
   "source": [
    "model_random_forest,model_input,model_target = fit_random_forest(df_thermal_model_data_input,6)"
   ]
  },
  {
   "cell_type": "code",
   "execution_count": null,
   "metadata": {},
   "outputs": [],
   "source": [
    "( model_predict, error) = model_estimator(\n",
    "    model_random_forest,model_input,model_target\n",
    ")"
   ]
  },
  {
   "cell_type": "code",
   "execution_count": null,
   "metadata": {},
   "outputs": [],
   "source": [
    "Thermal_model_regression_scatter(\n",
    "    model_target = model_target,\n",
    "    model_predict = model_predict,\n",
    "    title_model=\"随机森林\",\n",
    ").save()"
   ]
  },
  {
   "cell_type": "code",
   "execution_count": null,
   "metadata": {},
   "outputs": [],
   "source": [
    "Thermal_model_regression_error_histplot(\n",
    "    model_target=model_target,\n",
    "    error=error,\n",
    "    title_model=\"随机森林\"\n",
    ").save()"
   ]
  },
  {
   "cell_type": "code",
   "execution_count": null,
   "metadata": {},
   "outputs": [],
   "source": [
    "Thermal_model_regression_cumulative_error_plot(\n",
    "    model_target=model_target,\n",
    "    model_predict=model_predict\n",
    ").save()"
   ]
  },
  {
   "cell_type": "code",
   "execution_count": null,
   "metadata": {},
   "outputs": [],
   "source": [
    "model_lars,model_input,model_target = fit_LARS(df_thermal_model_data_input)"
   ]
  },
  {
   "cell_type": "code",
   "execution_count": null,
   "metadata": {},
   "outputs": [],
   "source": [
    "( model_predict, error) = model_estimator(\n",
    "    model_lars,model_input,model_target\n",
    ")"
   ]
  },
  {
   "cell_type": "code",
   "execution_count": null,
   "metadata": {},
   "outputs": [],
   "source": [
    "Thermal_model_regression_scatter(\n",
    "    model_target = model_target,\n",
    "    model_predict = model_predict,\n",
    "    title_model=\"LARS\",\n",
    ").save()"
   ]
  },
  {
   "cell_type": "code",
   "execution_count": null,
   "metadata": {},
   "outputs": [],
   "source": [
    "Thermal_model_regression_error_histplot(\n",
    "    model_target=model_target,\n",
    "    error=error,\n",
    "    title_model=\"LARS\"\n",
    ").save()"
   ]
  },
  {
   "cell_type": "code",
   "execution_count": null,
   "metadata": {},
   "outputs": [],
   "source": [
    "Thermal_model_regression_cumulative_error_plot(\n",
    "    model_target=model_target,\n",
    "    model_predict=model_predict,\n",
    "    title_model='LARS'\n",
    ").save()"
   ]
  },
  {
   "cell_type": "markdown",
   "metadata": {},
   "source": [
    "# 测试模型功能"
   ]
  },
  {
   "cell_type": "code",
   "execution_count": null,
   "metadata": {},
   "outputs": [],
   "source": [
    "ele_ori_model = ele_ori()\n",
    "ele_ori_model.merge_coef()"
   ]
  },
  {
   "cell_type": "code",
   "execution_count": null,
   "metadata": {},
   "outputs": [],
   "source": [
    "electrolyzer = Electrolyzer()"
   ]
  },
  {
   "cell_type": "code",
   "execution_count": null,
   "metadata": {},
   "outputs": [],
   "source": [
    "class Model_output_input_temperature_delta(QuadroPlotter):\n",
    "    def __init__(\n",
    "        self, \n",
    "        label=\"Thermal model\", \n",
    "        title=\"不同碱液入口温度下电解槽出入口温度差\", \n",
    "        num_subplot=4, \n",
    "        title_plot=False\n",
    "    ) -> None:\n",
    "        super().__init__(label, title, num_subplot, title_plot)\n",
    "        self.electrolyzer = Electrolyzer()"
   ]
  },
  {
   "cell_type": "code",
   "execution_count": null,
   "metadata": {},
   "outputs": [],
   "source": []
  },
  {
   "cell_type": "code",
   "execution_count": null,
   "metadata": {},
   "outputs": [],
   "source": [
    "current_TlyeIn_TlyeOut()"
   ]
  },
  {
   "cell_type": "code",
   "execution_count": null,
   "metadata": {},
   "outputs": [],
   "source": []
  },
  {
   "cell_type": "code",
   "execution_count": null,
   "metadata": {},
   "outputs": [],
   "source": []
  },
  {
   "cell_type": "code",
   "execution_count": null,
   "metadata": {},
   "outputs": [],
   "source": []
  },
  {
   "cell_type": "code",
   "execution_count": null,
   "metadata": {},
   "outputs": [],
   "source": []
  },
  {
   "cell_type": "code",
   "execution_count": null,
   "metadata": {},
   "outputs": [],
   "source": [
    "lye_flow_range = np.arange(0.6,2.1,0.1)\n",
    "current = OperatingCondition.Optimal.current\n",
    "lye_temperature = OperatingCondition.Optimal.lye_temperature\n",
    "temperature_list = []\n",
    "\n",
    "for lye_flow in lye_flow_range:\n",
    "    temperature_cur = electrolyzer.temperature_thermal_balance_current(\n",
    "        ambient_temperature= electrolyzer.default_ambient_temperature,\n",
    "        lye_flow= lye_flow,\n",
    "        lye_temperature = lye_temperature,\n",
    "        current=current\n",
    "    )\n",
    "    temperature_list.append(temperature_cur)\n",
    "plt.plot(\n",
    "    lye_flow_range,\n",
    "    temperature_list\n",
    ")\n",
    "plt.xlabel(r'$Lye\\ flow (m^3/h)$')\n",
    "plt.ylabel(r'$Outlet temperature (^\\circ C)$')"
   ]
  },
  {
   "cell_type": "code",
   "execution_count": null,
   "metadata": {},
   "outputs": [],
   "source": [
    "plt.show()"
   ]
  },
  {
   "cell_type": "code",
   "execution_count": null,
   "metadata": {},
   "outputs": [],
   "source": []
  },
  {
   "cell_type": "code",
   "execution_count": null,
   "metadata": {},
   "outputs": [],
   "source": []
  },
  {
   "cell_type": "code",
   "execution_count": null,
   "metadata": {},
   "outputs": [],
   "source": []
  },
  {
   "cell_type": "code",
   "execution_count": null,
   "metadata": {},
   "outputs": [],
   "source": []
  },
  {
   "cell_type": "code",
   "execution_count": null,
   "metadata": {},
   "outputs": [],
   "source": []
  },
  {
   "cell_type": "code",
   "execution_count": null,
   "metadata": {},
   "outputs": [],
   "source": []
  },
  {
   "cell_type": "code",
   "execution_count": null,
   "metadata": {},
   "outputs": [],
   "source": [
    "(\n",
    "    current_list,\n",
    "    voltage_list,\n",
    "    power_list,\n",
    "    temperature_list\n",
    ") = electrolyzer.get_default_polarization()"
   ]
  },
  {
   "cell_type": "code",
   "execution_count": null,
   "metadata": {},
   "outputs": [],
   "source": [
    "electrolyzer.temperature_thermal_balance_current(\n",
    "    ambient_temperature=15,\n",
    "    lye_flow=1.5,\n",
    "    lye_temperature=10,\n",
    "    current=0\n",
    ")"
   ]
  },
  {
   "cell_type": "code",
   "execution_count": null,
   "metadata": {},
   "outputs": [],
   "source": []
  }
 ],
 "metadata": {
  "kernelspec": {
   "display_name": "Python 3.10.2 ('venv': venv)",
   "language": "python",
   "name": "python3"
  },
  "language_info": {
   "codemirror_mode": {
    "name": "ipython",
    "version": 3
   },
   "file_extension": ".py",
   "mimetype": "text/x-python",
   "name": "python",
   "nbconvert_exporter": "python",
   "pygments_lexer": "ipython3",
   "version": "3.10.2"
  },
  "orig_nbformat": 4,
  "vscode": {
   "interpreter": {
    "hash": "1fc8bbdf4a64551d12bb41b817ff4e4b1bafd30afb3353483bf0700436ef2a82"
   }
  }
 },
 "nbformat": 4,
 "nbformat_minor": 2
}
