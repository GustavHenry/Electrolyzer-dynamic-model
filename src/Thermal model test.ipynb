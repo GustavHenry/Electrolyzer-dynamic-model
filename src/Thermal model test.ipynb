{
 "cells": [
  {
   "cell_type": "markdown",
   "metadata": {},
   "source": [
    "# 重新实现之前的线性热模型\n",
    "应该只需要读取第一次实验的数据，这里主要想规范一下之前的写法"
   ]
  },
  {
   "cell_type": "code",
   "execution_count": 1,
   "metadata": {},
   "outputs": [],
   "source": [
    "import pandas as pd\n",
    "import numpy as np\n",
    "import os\n",
    "from keys import *\n",
    "import math\n",
    "\n",
    "from tqdm import tqdm\n",
    "from loader import Loader\n",
    "from thermal_model.data import *\n",
    "from utils_thermal_model_raw_process import *\n",
    "import matplotlib.pyplot as plt\n",
    "from plotter import Plotter\n",
    "import seaborn as sns"
   ]
  },
  {
   "cell_type": "markdown",
   "metadata": {},
   "source": [
    "# 读取数据并且缓存成单独pickle"
   ]
  },
  {
   "cell_type": "code",
   "execution_count": 2,
   "metadata": {},
   "outputs": [
    {
     "name": "stdout",
     "output_type": "stream",
     "text": [
      "   Reading data from cache: ../.cache\\thermal_model_data_1101\n"
     ]
    }
   ],
   "source": [
    "df_thermal_model_data_raw = ThermalModelData().load()"
   ]
  },
  {
   "cell_type": "markdown",
   "metadata": {},
   "source": [
    "# 生成线性模型的输入项"
   ]
  },
  {
   "cell_type": "code",
   "execution_count": 3,
   "metadata": {},
   "outputs": [
    {
     "data": {
      "text/plain": [
       "Index(['Unnamed: 0', 'date_time', 'stack_voltage', 'stack_current', '产氢量',\n",
       "       '产氢累计量', 'lye_flow', 'temp_in', 'sys_pressure', 'temp_o', 'temp_h',\n",
       "       '氧侧液位', '氢侧液位', 'OTH', 'HTO', '脱氧上温', '脱氧下温', 'B塔上温', 'B塔下温', 'C塔上温',\n",
       "       'C塔下温', 'A塔上温', 'A塔下温', '露点', '微氧量', '出罐压力', '进罐温度', '进罐压力', 'temp_out',\n",
       "       'delta_temp', 'cell_voltage', 'current_density',\n",
       "       'voltage_thermal_neutral', 'ambt_temp'],\n",
       "      dtype='object')"
      ]
     },
     "execution_count": 3,
     "metadata": {},
     "output_type": "execute_result"
    }
   ],
   "source": [
    "df_thermal_model_data_raw.columns"
   ]
  },
  {
   "cell_type": "code",
   "execution_count": 4,
   "metadata": {},
   "outputs": [],
   "source": [
    "def generate_model_input(df):\n",
    "    df[Cols.electric_heat] = np.maximum(\n",
    "        0,\n",
    "        (\n",
    "            df[Cols.stack_voltage] - df[Cols.voltage_thermal_neutral] * Constants.num_cells\n",
    "        ) * df[Cols.stack_current] / 1000\n",
    "    ) # 生成电热，如果采集到的电压信号低于理论热中性电压，则取零\n",
    "\n",
    "    df[Cols.radiation_dissipation] = ((\n",
    "            df[Cols.temp_out] + Constants.absolute_temp_delta\n",
    "        ) ** 4 / 2 + (\n",
    "            df[Cols.lye_temp] + Constants.absolute_temp_delta\n",
    "        ) **4 / 2 - (\n",
    "            df[Cols.ambt_temp] + Constants.absolute_temp_delta\n",
    "        ) ** 4\n",
    "    ) # 生成辐射散热，将出入口温度做平均考虑\n",
    "\n",
    "    df[Cols.input_lye_heat] = (\n",
    "        df[Cols.lye_flow] * df[Cols.lye_temp]\n",
    "    ) # 跟随碱液带入的热量\n",
    "\n",
    "    df[Cols.output_lye_heat] = (\n",
    "        df[Cols.lye_flow] * df[Cols.temp_out]\n",
    "    )\n",
    "    \n",
    "    return df"
   ]
  },
  {
   "cell_type": "code",
   "execution_count": 5,
   "metadata": {},
   "outputs": [
    {
     "ename": "AttributeError",
     "evalue": "type object 'Cols' has no attribute 'radiation_dissapation'",
     "output_type": "error",
     "traceback": [
      "\u001b[1;31m---------------------------------------------------------------------------\u001b[0m",
      "\u001b[1;31mAttributeError\u001b[0m                            Traceback (most recent call last)",
      "Cell \u001b[1;32mIn [5], line 1\u001b[0m\n\u001b[1;32m----> 1\u001b[0m df_thermal_model_data_raw \u001b[39m=\u001b[39m generate_model_input(df_thermal_model_data_raw)\n",
      "Cell \u001b[1;32mIn [4], line 9\u001b[0m, in \u001b[0;36mgenerate_model_input\u001b[1;34m(df)\u001b[0m\n\u001b[0;32m      1\u001b[0m \u001b[39mdef\u001b[39;00m \u001b[39mgenerate_model_input\u001b[39m(df):\n\u001b[0;32m      2\u001b[0m     df[Cols\u001b[39m.\u001b[39melectric_heat] \u001b[39m=\u001b[39m np\u001b[39m.\u001b[39mmaximum(\n\u001b[0;32m      3\u001b[0m         \u001b[39m0\u001b[39m,\n\u001b[0;32m      4\u001b[0m         (\n\u001b[0;32m      5\u001b[0m             df[Cols\u001b[39m.\u001b[39mstack_voltage] \u001b[39m-\u001b[39m df[Cols\u001b[39m.\u001b[39mvoltage_thermal_neutral] \u001b[39m*\u001b[39m Constants\u001b[39m.\u001b[39mnum_cells\n\u001b[0;32m      6\u001b[0m         ) \u001b[39m*\u001b[39m df[Cols\u001b[39m.\u001b[39mstack_current] \u001b[39m/\u001b[39m \u001b[39m1000\u001b[39m\n\u001b[0;32m      7\u001b[0m     ) \u001b[39m# 生成电热，如果采集到的电压信号低于理论热中性电压，则取零\u001b[39;00m\n\u001b[1;32m----> 9\u001b[0m     df[Cols\u001b[39m.\u001b[39;49mradiation_dissapation] \u001b[39m=\u001b[39m ((\n\u001b[0;32m     10\u001b[0m             df[Cols\u001b[39m.\u001b[39mtemp_out] \u001b[39m+\u001b[39m Constants\u001b[39m.\u001b[39mabsolute_temp_delta\n\u001b[0;32m     11\u001b[0m         ) \u001b[39m*\u001b[39m\u001b[39m*\u001b[39m \u001b[39m4\u001b[39m \u001b[39m/\u001b[39m \u001b[39m2\u001b[39m \u001b[39m+\u001b[39m (\n\u001b[0;32m     12\u001b[0m             df[Cols\u001b[39m.\u001b[39mlye_temp] \u001b[39m+\u001b[39m Constants\u001b[39m.\u001b[39mabsolute_temp_delta\n\u001b[0;32m     13\u001b[0m         ) \u001b[39m*\u001b[39m\u001b[39m*\u001b[39m\u001b[39m4\u001b[39m \u001b[39m/\u001b[39m \u001b[39m2\u001b[39m \u001b[39m-\u001b[39m (\n\u001b[0;32m     14\u001b[0m             df[Cols\u001b[39m.\u001b[39mambt_temp] \u001b[39m+\u001b[39m Constants\u001b[39m.\u001b[39mabsolute_temp_delta\n\u001b[0;32m     15\u001b[0m         ) \u001b[39m*\u001b[39m\u001b[39m*\u001b[39m \u001b[39m4\u001b[39m\n\u001b[0;32m     16\u001b[0m     ) \u001b[39m# 生成辐射散热，将出入口温度做平均考虑\u001b[39;00m\n\u001b[0;32m     18\u001b[0m     df[Cols\u001b[39m.\u001b[39minput_lye_heat] \u001b[39m=\u001b[39m (\n\u001b[0;32m     19\u001b[0m         df[Cols\u001b[39m.\u001b[39mlye_flow] \u001b[39m*\u001b[39m df[Cols\u001b[39m.\u001b[39mlye_temp]\n\u001b[0;32m     20\u001b[0m     ) \u001b[39m# 跟随碱液带入的热量\u001b[39;00m\n\u001b[0;32m     22\u001b[0m     df[Cols\u001b[39m.\u001b[39moutput_lye_heat] \u001b[39m=\u001b[39m (\n\u001b[0;32m     23\u001b[0m         df[Cols\u001b[39m.\u001b[39mlye_flow] \u001b[39m*\u001b[39m df[Cols\u001b[39m.\u001b[39mtemp_out]\n\u001b[0;32m     24\u001b[0m     )\n",
      "\u001b[1;31mAttributeError\u001b[0m: type object 'Cols' has no attribute 'radiation_dissapation'"
     ]
    }
   ],
   "source": [
    "df_thermal_model_data_raw = generate_model_input(df_thermal_model_data_raw)"
   ]
  },
  {
   "cell_type": "code",
   "execution_count": null,
   "metadata": {},
   "outputs": [],
   "source": []
  }
 ],
 "metadata": {
  "kernelspec": {
   "display_name": "Python 3.10.2 ('venv': venv)",
   "language": "python",
   "name": "python3"
  },
  "language_info": {
   "codemirror_mode": {
    "name": "ipython",
    "version": 3
   },
   "file_extension": ".py",
   "mimetype": "text/x-python",
   "name": "python",
   "nbconvert_exporter": "python",
   "pygments_lexer": "ipython3",
   "version": "3.9.0"
  },
  "orig_nbformat": 4,
  "vscode": {
   "interpreter": {
    "hash": "1fc8bbdf4a64551d12bb41b817ff4e4b1bafd30afb3353483bf0700436ef2a82"
   }
  }
 },
 "nbformat": 4,
 "nbformat_minor": 2
}
