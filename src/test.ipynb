{
 "cells": [
  {
   "cell_type": "code",
   "execution_count": 1,
   "metadata": {},
   "outputs": [],
   "source": [
    "# .\\venv\\Scripts\\python.exe -m pip install numpy\n",
    "import os"
   ]
  },
  {
   "cell_type": "code",
   "execution_count": 2,
   "metadata": {},
   "outputs": [],
   "source": [
    "from keys import *"
   ]
  },
  {
   "cell_type": "code",
   "execution_count": 6,
   "metadata": {},
   "outputs": [],
   "source": [
    "CACHE_DIR = \"../.cache\"\n",
    "MODELS_DIR = \"../models\"\n",
    "REPORTS_DIR = '../reports'\n",
    "NOTEBOOKS_DIR = \"../notebooks\"\n",
    "\n",
    "DATA_RAW_DIR = \"../data/raw\"\n",
    "DATA_INT_DIR = \"../data/interim\"\n",
    "DATA_PRC_DIC = \"../data/processed\"\n",
    "DATA_RAW_INFRARED_DIR = \"../data/raw/InfraredImages\""
   ]
  },
  {
   "cell_type": "code",
   "execution_count": 7,
   "metadata": {},
   "outputs": [],
   "source": [
    "for dir in [CACHE_DIR,MODELS_DIR,REPORTS_DIR,NOTEBOOKS_DIR,DATA_RAW_DIR,DATA_INT_DIR,DATA_PRC_DIC,DATA_RAW_INFRARED_DIR]:\n",
    "    if not os.path.exists(dir):\n",
    "        os.makedirs(dir)"
   ]
  },
  {
   "cell_type": "code",
   "execution_count": null,
   "metadata": {},
   "outputs": [],
   "source": []
  }
 ],
 "metadata": {
  "kernelspec": {
   "display_name": "Python 3.10.2 ('venv': venv)",
   "language": "python",
   "name": "python3"
  },
  "language_info": {
   "codemirror_mode": {
    "name": "ipython",
    "version": 3
   },
   "file_extension": ".py",
   "mimetype": "text/x-python",
   "name": "python",
   "nbconvert_exporter": "python",
   "pygments_lexer": "ipython3",
   "version": "3.10.2"
  },
  "orig_nbformat": 4,
  "vscode": {
   "interpreter": {
    "hash": "1fc8bbdf4a64551d12bb41b817ff4e4b1bafd30afb3353483bf0700436ef2a82"
   }
  }
 },
 "nbformat": 4,
 "nbformat_minor": 2
}
