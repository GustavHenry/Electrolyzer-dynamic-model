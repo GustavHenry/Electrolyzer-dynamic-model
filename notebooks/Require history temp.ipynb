{
 "cells": [
  {
   "cell_type": "markdown",
   "metadata": {},
   "source": [
    "爬取新乡市的历史天气数据，并且用在模型中，实例代码：https://yonniye.com/archives/11.html     2345里面新乡的网页：https://tianqi.2345.com/wea_history/53986.htm"
   ]
  },
  {
   "cell_type": "code",
   "execution_count": null,
   "metadata": {},
   "outputs": [],
   "source": [
    "import requests\n",
    "import urllib.request\n",
    "from tqdm import tqdm\n",
    "from keys import *"
   ]
  },
  {
   "cell_type": "code",
   "execution_count": null,
   "metadata": {},
   "outputs": [],
   "source": [
    "months = []\n",
    "year = 2020\n",
    "for i in range(12):\n",
    "    months.append(\"%d%02d\"%(year, i+1))\n",
    "year = 2021\n",
    "for i in range(12):\n",
    "    months.append(\"%d%02d\"%(year, i+1))\n",
    "year = 2022\n",
    "for i in range(10):\n",
    "    months.append(\"%d%02d\"%(year, i+1))\n",
    "selected_month = months[22]\n",
    "\n",
    "\n",
    "headers = {\n",
    "    \"User-Agent\": \"Mozilla/5.0 (Windows NT 10.0; Win64; x64) AppleWebKit/537.36 (KHTML, like Gecko) \\\n",
    "     Chrome/77.0.3865.120 Safari/537.36\"\n",
    "}\n",
    "\n",
    "\n",
    "todo_url = f\"http://tianqi.2345.com/t/wea_history/js/{selected_month}/58238_{selected_month}.js\""
   ]
  },
  {
   "cell_type": "code",
   "execution_count": null,
   "metadata": {},
   "outputs": [],
   "source": [
    "def get_history_temps(months):\n",
    "    \"\"\"\n",
    "        这个函数可以按照月份需求读取2345天气网上的历史数据，并搜索得到历史上某一天的最高温和最低温\n",
    "        months输入为列表，格式为%yyyy%mm\n",
    "        原始方法：https://yonniye.com/archives/11.html\n",
    "    \"\"\"\n",
    "    date_list = []\n",
    "    temp_high_list = []\n",
    "    temp_low_list = []\n",
    "    headers = {\n",
    "    \"User-Agent\": \"Mozilla/5.0 (Windows NT 10.0; Win64; x64) AppleWebKit/537.36 (KHTML, like Gecko) \\\n",
    "     Chrome/77.0.3865.120 Safari/537.36\"}\n",
    "    for selected_month in months:\n",
    "        todo_url = f\"http://tianqi.2345.com/t/wea_history/js/{selected_month}/58238_{selected_month}.js\"\n",
    "        \"\"\" \n",
    "            这里默认读出来的数据是乱码，实例如下：\n",
    "            2021-11-01',bWendu:'23Ўж',yWendu:'14Ўж',tianqi:'¶аФЖ',fengxiang:'¶«ұұ·з',fengli:'2ј¶',aqi:'74',aqiInfo:'Бј',aqiLevel:'2'},{\n",
    "        \"\"\"     \n",
    "        data = requests.get(todo_url,headers=headers)\n",
    "        print(data.text)\n",
    "        data = data.text.lstrip(\"var weather_str=\").rstrip(';')\n",
    "        month_list = data.split('ymd:\\'')[1:-1]\n",
    "        for line in month_list:\n",
    "            date = line[:10]\n",
    "            if 'Ўж' in data:\n",
    "                temp_high = int(line[10:].split('Ўж')[0].split(':\\'')[1])\n",
    "                temp_low = int(line[10:].split('Ўж')[1].split(':\\'')[1])\n",
    "            elif 'Ёц' in data:\n",
    "                temp_high = int(line[10:].split('Ёц')[0].split(':\\'')[1])\n",
    "                temp_low = int(line[10:].split('Ёц')[1].split(':\\'')[1])  \n",
    "\n",
    "            date_list.append(date)\n",
    "            temp_high_list.append(temp_high)\n",
    "            temp_low_list.append(temp_low)\n",
    "    return date_list,temp_high_list,temp_low_list\n",
    "        \n"
   ]
  },
  {
   "cell_type": "code",
   "execution_count": null,
   "metadata": {},
   "outputs": [],
   "source": [
    "data"
   ]
  },
  {
   "cell_type": "code",
   "execution_count": null,
   "metadata": {},
   "outputs": [],
   "source": [
    "date_list,temp_high_list,temp_low_list = get_history_temps(months=months[:1])\n"
   ]
  },
  {
   "cell_type": "code",
   "execution_count": null,
   "metadata": {},
   "outputs": [],
   "source": [
    "import pandas\n",
    "\n",
    "\n",
    "temp_data = {\n",
    "    'date': date_list,\n",
    "    'max_temp': temp_high_list,\n",
    "    'min_temp': temp_low_list\n",
    "    }\n",
    "df = pandas.DataFrame(temp_data)\n",
    "\n"
   ]
  },
  {
   "cell_type": "code",
   "execution_count": null,
   "metadata": {},
   "outputs": [],
   "source": [
    "df"
   ]
  },
  {
   "cell_type": "code",
   "execution_count": null,
   "metadata": {},
   "outputs": [],
   "source": [
    "df['date'] = df['date'].apply(lambda x: x.replace('-',''))\n",
    "df['date'] = pandas.to_datetime(df['date'])"
   ]
  },
  {
   "cell_type": "code",
   "execution_count": null,
   "metadata": {},
   "outputs": [],
   "source": [
    "df.to_csv(\n",
    "    \"Histor_temperature_{}_{}.csv\".format(\n",
    "        months[0],months[-1]\n",
    "    ),\n",
    "    encoding = 'utf-8-sig'\n",
    "\n",
    ")"
   ]
  },
  {
   "cell_type": "code",
   "execution_count": null,
   "metadata": {},
   "outputs": [],
   "source": []
  }
 ],
 "metadata": {
  "kernelspec": {
   "display_name": "Python 3.10.2 64-bit",
   "language": "python",
   "name": "python3"
  },
  "language_info": {
   "codemirror_mode": {
    "name": "ipython",
    "version": 3
   },
   "file_extension": ".py",
   "mimetype": "text/x-python",
   "name": "python",
   "nbconvert_exporter": "python",
   "pygments_lexer": "ipython3",
   "version": "3.10.2"
  },
  "orig_nbformat": 4,
  "vscode": {
   "interpreter": {
    "hash": "78f5b707d86fd9281530b9fa2dbdbe1b33232c3b651a8e052360c651d4996094"
   }
  }
 },
 "nbformat": 4,
 "nbformat_minor": 2
}
